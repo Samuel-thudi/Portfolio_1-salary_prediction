{
 "cells": [
  {
   "cell_type": "markdown",
   "id": "45f9772e",
   "metadata": {},
   "source": [
    "# Creating splits and baseline model"
   ]
  },
  {
   "cell_type": "code",
   "execution_count": 1,
   "id": "c47507cb",
   "metadata": {},
   "outputs": [],
   "source": [
    "import pandas as pd\n",
    "from sklearn.model_selection import cross_val_score,train_test_split\n",
    "from sklearn.preprocessing import StandardScaler\n",
    "from sklearn.linear_model import LinearRegression\n",
    "from sklearn.metrics import mean_squared_error\n",
    "import warnings\n",
    "warnings.filterwarnings('ignore')"
   ]
  },
  {
   "cell_type": "code",
   "execution_count": 2,
   "id": "9f2128f5",
   "metadata": {},
   "outputs": [],
   "source": [
    "def unique_and_null_categorical(dataset):\n",
    "    dataset_cat = pd.DataFrame(dataset.select_dtypes(include='object'))\n",
    "    for i in dataset_cat.columns:\n",
    "        if i == 'jobId':\n",
    "            print('JobId is Unique')\n",
    "            print('Unique values in jobId:',dataset[i].nunique(),'\\n')\n",
    "        else:\n",
    "            print(i,\":\",'\\n',dataset[i].unique(),'\\n','number of unique values:',dataset[i].nunique())\n",
    "            print();\n",
    "            \n",
    "def encode_and_bind(original_dataframe):\n",
    "    #selecting all the categorical columns\n",
    "    dataset_cat = pd.DataFrame(original_dataframe.select_dtypes(include='object'))\n",
    "    df = original_dataframe\n",
    "    #dummy encoding the categorical variables and removing the original column\n",
    "    for i in dataset_cat:        \n",
    "        dummies = pd.get_dummies(df[[i]])\n",
    "        df = pd.concat([df, dummies], axis=1)\n",
    "        df = df.drop([i], axis=1)\n",
    "    return(df) \n",
    "\n",
    "def highest_salary_per_category(dataframe,category,target='salary'):\n",
    "    #grouping data and reseting it's index and returning the sorted table\n",
    "    grouped_table = dataframe.groupby(category)[target].mean().to_frame().reset_index()\n",
    "    return grouped_table.sort_values(target).reset_index()\n",
    "\n",
    "def scale_data(dataset,test_data = 0, by = 'SS'): \n",
    "    \n",
    "    df = dataset.copy()\n",
    "    \n",
    "    #Import various scalers    \n",
    "    from sklearn.preprocessing import RobustScaler,MaxAbsScaler,StandardScaler,MinMaxScaler\n",
    "    \n",
    "    if by == 'SS':\n",
    "        scaler = StandardScaler()\n",
    "    elif by == 'MM': \n",
    "        scaler = MinMaxScaler()\n",
    "    elif by == 'MA':\n",
    "        scaler = MaxAbsScaler()\n",
    "    elif by == 'RS': \n",
    "        scaler = RobustScaler()\n",
    "    \n",
    "    #fitting training data with the scaler\n",
    "    scaler.fit(df[['yearsExperience','milesFromMetropolis']])\n",
    "    df[['yearsExperience','milesFromMetropolis']] = scaler.transform(df[['yearsExperience','milesFromMetropolis']])\n",
    "    \n",
    "    #If test data is given scale it according to the train_data metrics\n",
    "    if isinstance(test_data,pd.DataFrame) == True:\n",
    "        test_data[['yearsExperience','milesFromMetropolis']] = scaler.transform(test_data[['yearsExperience','milesFromMetropolis']])\n",
    "    \n",
    "    #return the scaler parameters, train and test data\n",
    "    return df,scaler\n",
    "\n",
    "def ordinal_scale(data):\n",
    "    \n",
    "    df = data.copy()\n",
    "    \n",
    "    #get the sorted values in ascending order\n",
    "    jobType = highest_salary_per_category(full_data,'jobType')\n",
    "    degree  = highest_salary_per_category(full_data,'degree')\n",
    "    \n",
    "    #create a dictionary of values and their order\n",
    "    scale_mapper_jobType = dict(zip(jobType.jobType,range(1,len(jobType.jobType)+1)))\n",
    "    scale_mapper_degree = dict(zip(degree.degree,range(1,len(degree.degree)+1)))\n",
    "    \n",
    "    \n",
    "    \n",
    "    #scale the columns ordinally\n",
    "    df['jobType'] = df['jobType'].replace(scale_mapper_jobType)\n",
    "    df['degree'] = df['degree'].replace(scale_mapper_degree)\n",
    "    return df"
   ]
  },
  {
   "cell_type": "code",
   "execution_count": 3,
   "id": "64ec423b",
   "metadata": {},
   "outputs": [
    {
     "data": {
      "text/plain": [
       "(999995, 9)"
      ]
     },
     "execution_count": 3,
     "metadata": {},
     "output_type": "execute_result"
    }
   ],
   "source": [
    "# Importing datasets\n",
    "train_feature_df = pd.read_csv(r'C:\\Users\\samue\\Downloads/data/train_features.csv')\n",
    "train_target_df = pd.read_csv(r'C:\\Users\\samue\\Downloads\\data/train_salaries.csv')\n",
    "test_feature_df = pd.read_csv(r'C:\\Users\\samue\\Downloads\\data/test_features.csv')\n",
    "\n",
    "\n",
    "#creating a full dataset with target variable\n",
    "full_data = train_feature_df.copy()\n",
    "full_data['salary'] = train_target_df['salary']\n",
    "\n",
    "#dropping observations where salary is zero\n",
    "zero_salary_rows = full_data[full_data['salary']==0].index\n",
    "full_data = full_data.drop(zero_salary_rows)\n",
    "full_data.shape"
   ]
  },
  {
   "cell_type": "code",
   "execution_count": 4,
   "id": "d74fc036",
   "metadata": {},
   "outputs": [
    {
     "data": {
      "image/png": "[encoded data removed]",
      "text/plain": [
       "<Figure size 432x288 with 1 Axes>"
      ]
     },
     "metadata": {
      "needs_background": "light"
     },
     "output_type": "display_data"
    }
   ],
   "source": [
    "#checking if company ID has any quantitative value\n",
    "full_data.reset_index(inplace=True,drop=True)\n",
    "full_data.groupby(['companyId'])['salary'].mean().plot(kind ='bar');"
   ]
  },
  {
   "cell_type": "markdown",
   "id": "8db20f36",
   "metadata": {},
   "source": [
    "companyId has 63 variables and each class has almost the equal mean.\n",
    "\n",
    "there is no real value added to the model so we remove the column. "
   ]
  },
  {
   "cell_type": "code",
   "execution_count": 5,
   "id": "03568435",
   "metadata": {
    "scrolled": true
   },
   "outputs": [
    {
     "name": "stdout",
     "output_type": "stream",
     "text": [
      "JobId is Unique\n",
      "Unique values in jobId: 999995 \n",
      "\n",
      "jobType : \n",
      " ['CFO' 'CEO' 'VICE_PRESIDENT' 'MANAGER' 'JUNIOR' 'JANITOR' 'CTO' 'SENIOR'] \n",
      " number of unique values: 8\n",
      "\n",
      "degree : \n",
      " ['MASTERS' 'HIGH_SCHOOL' 'DOCTORAL' 'BACHELORS' 'NONE'] \n",
      " number of unique values: 5\n",
      "\n",
      "major : \n",
      " ['MATH' 'NONE' 'PHYSICS' 'CHEMISTRY' 'COMPSCI' 'BIOLOGY' 'LITERATURE'\n",
      " 'BUSINESS' 'ENGINEERING'] \n",
      " number of unique values: 9\n",
      "\n",
      "industry : \n",
      " ['HEALTH' 'WEB' 'AUTO' 'FINANCE' 'EDUCATION' 'OIL' 'SERVICE'] \n",
      " number of unique values: 7\n",
      "\n"
     ]
    }
   ],
   "source": [
    "full_data.drop('companyId',axis = 1,inplace=True)\n",
    "unique_and_null_categorical(full_data)"
   ]
  },
  {
   "cell_type": "markdown",
   "id": "2573b4f3",
   "metadata": {},
   "source": [
    "### Splitting the data"
   ]
  },
  {
   "cell_type": "code",
   "execution_count": 6,
   "id": "b206a892",
   "metadata": {},
   "outputs": [],
   "source": [
    "x_train, x_val, y_train, y_val = train_test_split(full_data.drop(['salary'],axis = 1),full_data['salary'],test_size = 0.3, random_state= 157)"
   ]
  },
  {
   "cell_type": "markdown",
   "id": "a6963a19",
   "metadata": {},
   "source": [
    "### Baseline model"
   ]
  },
  {
   "cell_type": "code",
   "execution_count": 7,
   "id": "ae823021",
   "metadata": {},
   "outputs": [],
   "source": [
    "x_train.set_index('jobId',inplace = True)\n",
    "x_train_encoded = encode_and_bind(x_train)"
   ]
  },
  {
   "cell_type": "code",
   "execution_count": 8,
   "id": "5d2f460d",
   "metadata": {
    "scrolled": true
   },
   "outputs": [
    {
     "name": "stdout",
     "output_type": "stream",
     "text": [
      "384.36 mse with a standard deviation of 0.94 for training data\n",
      "384.54462245126416 for validation data\n"
     ]
    }
   ],
   "source": [
    "model = LinearRegression()\n",
    "scores = cross_val_score(model,x_train_encoded,y_train,scoring='neg_mean_squared_error')\n",
    "print(\"%0.2f mse with a standard deviation of %0.2f for training data\" % (abs(scores.mean()), scores.std()))\n",
    "\n",
    "x_val.set_index('jobId',inplace = True)\n",
    "x_val_encoded = encode_and_bind(x_val)\n",
    "\n",
    "model.fit(x_train_encoded,y_train)\n",
    "y_val_pred = model.predict(x_val_encoded)\n",
    "print(mean_squared_error(y_val,y_val_pred),'for validation data')"
   ]
  },
  {
   "cell_type": "markdown",
   "id": "744b722b",
   "metadata": {},
   "source": [
    "***\n",
    "**Baseline model gives us a MSE of 384 for both training and validation data**\n",
    "***\n",
    "To decrease the MSE further we select few models and try to tune them to achieve better MSE"
   ]
  },
  {
   "cell_type": "markdown",
   "id": "3aeac675",
   "metadata": {},
   "source": [
    "SGDRegressor, Neural Networks, GBRegressor, Support Vector Regressor"
   ]
  },
  {
   "cell_type": "markdown",
   "id": "6112520f",
   "metadata": {},
   "source": [
    "https://machinelearningmastery.com/automate-machine-learning-workflows-pipelines-python-scikit-learn/\n"
   ]
  },
  {
   "cell_type": "markdown",
   "id": "63ce217d",
   "metadata": {},
   "source": [
    "* Encode categorical variables with ordinal and one hot encoding\n",
    "* Apply PCA and check \n",
    "* feature scale numerical columns\n",
    "* Include and remove numerical columns to check if it has an effect"
   ]
  },
  {
   "cell_type": "markdown",
   "id": "bb751017",
   "metadata": {},
   "source": [
    "Scaling and non-scaling\n",
    "\n",
    "OneHotEncoding and Ordinal Coding\n",
    "\n",
    "trying combination of features\n",
    "\n",
    "PCA and No-PCA"
   ]
  },
  {
   "cell_type": "markdown",
   "id": "3c403776",
   "metadata": {},
   "source": [
    "1. Scale Data using scale_data - \"only scales yearsExperience and milesFromMetropolis\"\n",
    "2. ordinal scale jobType and degree using ordinal scale\n",
    "3. encode all variables with encode_and_bind"
   ]
  },
  {
   "cell_type": "code",
   "execution_count": 9,
   "id": "0a2284b8",
   "metadata": {},
   "outputs": [],
   "source": [
    "def train_model(model, feature_df, target_df, num_procs, mean_mse, cv_std):\n",
    "    #using 5 fold CV and measuring with MSE \n",
    "    neg_mse = cross_val_score(model, feature_df, target_df, cv=5, n_jobs=num_procs, scoring='neg_mean_squared_error')\n",
    "    #store the mean MSE of the model\n",
    "    mean_mse[model] = -1.0*np.mean(neg_mse)\n",
    "    cv_std[model] = np.std(neg_mse)\n",
    "def print_summary(model, mean_mse, cv_std):\n",
    "    print('\\nModel:\\n', model)\n",
    "    print('Average MSE:\\n', mean_mse[model])\n",
    "    print('Standard deviation during CV:\\n', cv_std[model])"
   ]
  },
  {
   "cell_type": "code",
   "execution_count": 10,
   "id": "0dbf7aca",
   "metadata": {},
   "outputs": [],
   "source": [
    "from sklearn.linear_model import SGDRegressor\n",
    "from sklearn.ensemble import GradientBoostingRegressor\n",
    "from sklearn.svm import SVR\n",
    "from sklearn.decomposition import PCA\n",
    "import numpy as np\n",
    "import matplotlib.pyplot as plt\n",
    "from sklearn.model_selection import GridSearchCV"
   ]
  },
  {
   "cell_type": "markdown",
   "id": "a312c1ea",
   "metadata": {},
   "source": [
    "### 1) SVR"
   ]
  },
  {
   "cell_type": "markdown",
   "id": "0a30fc70",
   "metadata": {},
   "source": [
    "#### No Scaling"
   ]
  },
  {
   "cell_type": "code",
   "execution_count": 11,
   "id": "3748aceb",
   "metadata": {},
   "outputs": [],
   "source": [
    "x_train_encoded = encode_and_bind(x_train)"
   ]
  },
  {
   "cell_type": "code",
   "execution_count": 12,
   "id": "43462a2f",
   "metadata": {},
   "outputs": [],
   "source": [
    "kernels = ['rbf','sigmoid','linear','poly']\n",
    "\n",
    "mse_kernel = []\n",
    "for i in kernels: \n",
    "    svr = SVR(kernel=i,max_iter=500)\n",
    "    svr.fit(x_train_encoded,y_train)\n",
    "    y_pred = svr.predict(x_train_encoded)\n",
    "    mse_kernel.append(mean_squared_error(y_train,y_pred))"
   ]
  },
  {
   "cell_type": "code",
   "execution_count": 13,
   "id": "c6472161",
   "metadata": {},
   "outputs": [],
   "source": [
    "mse_df = pd.DataFrame()\n",
    "mse_kernel = pd.DataFrame(mse_kernel)\n",
    "mse_df['kernel'] = kernels\n",
    "mse_df['mse'] = mse_kernel"
   ]
  },
  {
   "cell_type": "markdown",
   "id": "ea208a0d",
   "metadata": {},
   "source": [
    "#### Scaling"
   ]
  },
  {
   "cell_type": "code",
   "execution_count": 14,
   "id": "e87561ff",
   "metadata": {},
   "outputs": [],
   "source": [
    "x_train_sc,_ = scale_data(x_train)\n",
    "x_train_sc_enc = encode_and_bind(x_train_sc)"
   ]
  },
  {
   "cell_type": "code",
   "execution_count": 15,
   "id": "e8d6b776",
   "metadata": {},
   "outputs": [],
   "source": [
    "mse_scaled =[]\n",
    "for i in kernels: \n",
    "    svr = SVR(kernel=i,max_iter=500)\n",
    "    svr.fit(x_train_sc_enc,y_train)\n",
    "    y_pred = svr.predict(x_train_sc_enc)\n",
    "    mse_scaled.append(mean_squared_error(y_train,y_pred))"
   ]
  },
  {
   "cell_type": "code",
   "execution_count": 16,
   "id": "05f030fc",
   "metadata": {},
   "outputs": [],
   "source": [
    "mse_df['scaled_mse'] = pd.DataFrame(mse_scaled)"
   ]
  },
  {
   "cell_type": "markdown",
   "id": "e8f99ae2",
   "metadata": {},
   "source": [
    "#### Ordinal Scaled"
   ]
  },
  {
   "cell_type": "code",
   "execution_count": 17,
   "id": "58539f9e",
   "metadata": {},
   "outputs": [],
   "source": [
    "x_train_ord = ordinal_scale(x_train)\n",
    "x_train_ord,_ = scale_data(x_train_ord)\n",
    "x_train_ord_enc = encode_and_bind(x_train_ord)"
   ]
  },
  {
   "cell_type": "code",
   "execution_count": 18,
   "id": "a429cd63",
   "metadata": {},
   "outputs": [],
   "source": [
    "mse_ord =[]\n",
    "for i in kernels: \n",
    "    svr = SVR(kernel=i,max_iter=500)\n",
    "    svr.fit(x_train_ord_enc,y_train)\n",
    "    y_pred = svr.predict(x_train_ord_enc)\n",
    "    mse_ord.append(mean_squared_error(y_train,y_pred))\n",
    "\n",
    "mse_df['ordinal_mse'] = pd.DataFrame(mse_ord)"
   ]
  },
  {
   "cell_type": "code",
   "execution_count": 19,
   "id": "539f2b34",
   "metadata": {},
   "outputs": [
    {
     "data": {
      "image/png": "[encoded data removed]",
      "text/plain": [
       "<Figure size 432x288 with 1 Axes>"
      ]
     },
     "metadata": {
      "needs_background": "light"
     },
     "output_type": "display_data"
    }
   ],
   "source": [
    "x_axis = np.arange(len(kernels))\n",
    "\n",
    "# Multi bar Chart\n",
    "\n",
    "plt.bar(x_axis +0.20, mse_df['mse'], width=0.2, label = 'mse')\n",
    "plt.bar(x_axis +0.20*2, mse_df['scaled_mse'], width=0.2, label = 'scaled')\n",
    "plt.bar(x_axis +0.20*3, mse_df['ordinal_mse'], width=0.2, label = 'ordinally scaled')\n",
    "plt.xticks(x_axis,kernels)\n",
    "plt.legend()\n",
    "\n",
    "# Display\n",
    "\n",
    "plt.show()"
   ]
  },
  {
   "cell_type": "markdown",
   "id": "a6b05ab1",
   "metadata": {},
   "source": [
    "### 2) GBR"
   ]
  },
  {
   "cell_type": "code",
   "execution_count": 20,
   "id": "c737def2",
   "metadata": {
    "scrolled": true
   },
   "outputs": [
    {
     "name": "stdout",
     "output_type": "stream",
     "text": [
      "      Iter       Train Loss   Remaining Time \n",
      "         1        1330.0836            1.47m\n",
      "         2        1190.4314            1.46m\n",
      "         3        1074.8429            1.44m\n",
      "         4         979.6346            1.43m\n",
      "         5         899.2577            1.41m\n",
      "         6         832.0884            1.39m\n",
      "         7         773.4663            1.37m\n",
      "         8         723.8668            1.36m\n",
      "         9         681.8102            1.34m\n",
      "        10         645.3304            1.33m\n",
      "        20         450.8736            1.17m\n",
      "        30         391.1700            1.02m\n",
      "        40         369.5596           52.42s\n",
      "        50         360.2584           43.49s\n",
      "        60         355.7887           34.64s\n",
      "        70         352.9547           25.85s\n",
      "        80         351.2347           17.15s\n",
      "        90         350.1152            8.54s\n",
      "       100         349.1116            0.00s\n",
      "      Iter       Train Loss   Remaining Time \n",
      "         1        1330.1313            1.45m\n",
      "         2        1190.4917            1.43m\n",
      "         3        1075.4148            1.41m\n",
      "         4         979.4864            1.39m\n",
      "         5         899.3314            1.38m\n",
      "         6         832.1822            1.36m\n",
      "         7         774.9846            1.35m\n",
      "         8         725.1511            1.33m\n",
      "         9         683.1883            1.32m\n",
      "        10         647.2448            1.31m\n",
      "        20         450.6957            1.15m\n",
      "        30         391.5930            1.01m\n",
      "        40         369.8928           51.95s\n",
      "        50         360.7268           43.35s\n",
      "        60         355.9636           34.69s\n",
      "        70         353.0222           25.91s\n",
      "        80         351.5232           17.26s\n",
      "        90         350.2150            8.60s\n",
      "       100         349.3195            0.00s\n",
      "      Iter       Train Loss   Remaining Time \n",
      "         1        1325.1405            1.45m\n",
      "         2        1185.9394            1.44m\n",
      "         3        1071.1572            1.43m\n",
      "         4         976.4461            1.40m\n",
      "         5         896.0015            1.39m\n",
      "         6         829.2581            1.38m\n",
      "         7         771.2199            1.36m\n",
      "         8         722.1970            1.34m\n",
      "         9         679.7747            1.33m\n",
      "        10         643.2311            1.31m\n",
      "        20         449.0136            1.15m\n",
      "        30         390.5661            1.01m\n",
      "        40         369.1133           52.30s\n",
      "        50         359.6774           43.58s\n",
      "        60         355.2473           34.75s\n",
      "        70         352.1937           25.98s\n",
      "        80         350.4049           17.28s\n",
      "        90         349.2576            8.60s\n",
      "       100         348.2584            0.00s\n"
     ]
    }
   ],
   "source": [
    "gbr = GradientBoostingRegressor(max_depth=7,alpha=0.1,verbose=1)\n",
    "error = cross_val_score(gbr,x_train_encoded,y_train,cv =3, scoring='neg_mean_squared_error')"
   ]
  },
  {
   "cell_type": "code",
   "execution_count": 21,
   "id": "b913280e",
   "metadata": {},
   "outputs": [
    {
     "name": "stdout",
     "output_type": "stream",
     "text": [
      "The mean RMSE and MSE of CV 3 is 357.429431 and 18.905804 respectively\n"
     ]
    }
   ],
   "source": [
    "print('The mean RMSE and MSE of CV 3 is %f and %f respectively' %(abs(error.mean()),np.sqrt(abs(error.mean()))))"
   ]
  },
  {
   "cell_type": "markdown",
   "id": "a56f1822",
   "metadata": {},
   "source": [
    "<b>Hyperparameter tuning for GBR as it's MSE is better than SVR</b>"
   ]
  },
  {
   "cell_type": "code",
   "execution_count": 22,
   "id": "97e30f70",
   "metadata": {
    "collapsed": true
   },
   "outputs": [
    {
     "name": "stdout",
     "output_type": "stream",
     "text": [
      "Fitting 3 folds for each of 9 candidates, totalling 27 fits\n"
     ]
    },
    {
     "data": {
      "text/plain": [
       "GridSearchCV(cv=3,\n",
       "             estimator=GradientBoostingRegressor(max_depth=8,\n",
       "                                                 max_features='sqrt',\n",
       "                                                 min_samples_leaf=50,\n",
       "                                                 min_samples_split=500,\n",
       "                                                 random_state=10,\n",
       "                                                 subsample=0.8),\n",
       "             n_jobs=4, param_grid={'n_estimators': range(20, 101, 10)},\n",
       "             scoring='neg_mean_squared_error', verbose=1)"
      ]
     },
     "execution_count": 22,
     "metadata": {},
     "output_type": "execute_result"
    }
   ],
   "source": [
    "#initializing the parameters\n",
    "param_test1 = {'n_estimators':range(20,101,10)}\n",
    "\n",
    "#Tuning the hyperparameters\n",
    "gsearch1 = GridSearchCV(estimator = GradientBoostingRegressor(learning_rate=0.1, min_samples_split=500,min_samples_leaf=50,max_depth=8,max_features='sqrt',subsample=0.8,random_state=10), param_grid = param_test1, scoring='neg_mean_squared_error',n_jobs=4, cv=3, verbose=1)\n",
    "gsearch1.fit(x_train_encoded,y_train)"
   ]
  },
  {
   "cell_type": "code",
   "execution_count": 1,
   "id": "b65f8e5a",
   "metadata": {
    "scrolled": true
   },
   "outputs": [
    {
     "ename": "NameError",
     "evalue": "name 'gsearch1' is not defined",
     "output_type": "error",
     "traceback": [
      "\u001b[1;31m---------------------------------------------------------------------------\u001b[0m",
      "\u001b[1;31mNameError\u001b[0m                                 Traceback (most recent call last)",
      "\u001b[1;32m~\\AppData\\Local\\Temp/ipykernel_6452/2421989473.py\u001b[0m in \u001b[0;36m<module>\u001b[1;34m\u001b[0m\n\u001b[0;32m      1\u001b[0m \u001b[1;31m#printing out the results of the GridSearchCV\u001b[0m\u001b[1;33m\u001b[0m\u001b[1;33m\u001b[0m\u001b[0m\n\u001b[1;32m----> 2\u001b[1;33m \u001b[0mgsearch1\u001b[0m\u001b[1;33m.\u001b[0m\u001b[0mcv_results_\u001b[0m\u001b[1;33m,\u001b[0m \u001b[0mgsearch1\u001b[0m\u001b[1;33m.\u001b[0m\u001b[0mbest_params_\u001b[0m\u001b[1;33m,\u001b[0m \u001b[0mgsearch1\u001b[0m\u001b[1;33m.\u001b[0m\u001b[0mbest_score_\u001b[0m\u001b[1;33m\u001b[0m\u001b[1;33m\u001b[0m\u001b[0m\n\u001b[0m",
      "\u001b[1;31mNameError\u001b[0m: name 'gsearch1' is not defined"
     ]
    }
   ],
   "source": [
    "#printing out the results of the GridSearchCV\n",
    "gsearch1.cv_results_, gsearch1.best_params_, gsearch1.best_score_"
   ]
  },
  {
   "cell_type": "markdown",
   "id": "6707b1d9",
   "metadata": {},
   "source": [
    "<b> Getting the n_estimator values and tuning the next two parameters max_depth and min_samples_split. </b> "
   ]
  },
  {
   "cell_type": "code",
   "execution_count": 24,
   "id": "9ca0add4",
   "metadata": {
    "scrolled": false
   },
   "outputs": [
    {
     "name": "stdout",
     "output_type": "stream",
     "text": [
      "Fitting 3 folds for each of 30 candidates, totalling 90 fits\n"
     ]
    },
    {
     "data": {
      "text/plain": [
       "({'mean_fit_time': array([21.52927931, 22.27369396, 22.65266204, 22.30100004, 21.39967179,\n",
       "         28.94397012, 28.77533237, 28.5246594 , 28.27000022, 28.00999363,\n",
       "         34.58799879, 34.21266333, 34.27964481, 34.55900089, 34.15264161,\n",
       "         40.01100421, 39.95399809, 39.58366577, 39.19532959, 38.85101891,\n",
       "         44.37866926, 43.28529763, 42.83697414, 42.34363755, 41.64033135,\n",
       "         47.79466303, 46.09500464, 45.70531956, 44.92800244, 35.18200191]),\n",
       "  'std_fit_time': array([0.04493128, 0.53663867, 0.14950985, 0.09511187, 0.02107916,\n",
       "         0.13283131, 0.08865798, 0.24176061, 0.02127202, 0.33278635,\n",
       "         0.11011598, 0.11242629, 0.17201592, 0.30474522, 0.29854977,\n",
       "         0.10255398, 0.18066991, 0.17513776, 0.03172086, 0.12300993,\n",
       "         0.32819894, 0.17664094, 0.09700117, 0.14933873, 0.16722271,\n",
       "         0.42291351, 0.11424782, 0.09960592, 0.12967398, 4.64784437]),\n",
       "  'mean_score_time': array([0.70100745, 0.71330818, 0.71300117, 0.72766487, 0.71768634,\n",
       "         0.83066503, 0.82833393, 0.82433335, 0.84733621, 0.75633732,\n",
       "         0.9049964 , 0.91333818, 0.92465965, 0.93166081, 0.89033739,\n",
       "         1.15732924, 1.16000414, 1.11933382, 1.11066326, 1.08797812,\n",
       "         1.42966922, 1.40133516, 1.33600402, 1.29900249, 1.28200873,\n",
       "         1.66633471, 1.56234988, 1.49766946, 1.43802238, 1.22268216]),\n",
       "  'std_score_time': array([0.05797066, 0.0645303 , 0.0816388 , 0.03038376, 0.06776349,\n",
       "         0.02922179, 0.08074929, 0.053282  , 0.06499691, 0.02370014,\n",
       "         0.01313419, 0.00543342, 0.0057888 , 0.02213261, 0.02028805,\n",
       "         0.01212344, 0.01961617, 0.0189259 , 0.00573493, 0.01919069,\n",
       "         0.03068897, 0.01268069, 0.00747283, 0.00496245, 0.00828598,\n",
       "         0.0213044 , 0.05215526, 0.0150596 , 0.01059131, 0.05962533]),\n",
       "  'param_max_depth': masked_array(data=[5, 5, 5, 5, 5, 7, 7, 7, 7, 7, 9, 9, 9, 9, 9, 11, 11,\n",
       "                     11, 11, 11, 13, 13, 13, 13, 13, 15, 15, 15, 15, 15],\n",
       "               mask=[False, False, False, False, False, False, False, False,\n",
       "                     False, False, False, False, False, False, False, False,\n",
       "                     False, False, False, False, False, False, False, False,\n",
       "                     False, False, False, False, False, False],\n",
       "         fill_value='?',\n",
       "              dtype=object),\n",
       "  'param_min_samples_split': masked_array(data=[200, 400, 600, 800, 1000, 200, 400, 600, 800, 1000,\n",
       "                     200, 400, 600, 800, 1000, 200, 400, 600, 800, 1000,\n",
       "                     200, 400, 600, 800, 1000, 200, 400, 600, 800, 1000],\n",
       "               mask=[False, False, False, False, False, False, False, False,\n",
       "                     False, False, False, False, False, False, False, False,\n",
       "                     False, False, False, False, False, False, False, False,\n",
       "                     False, False, False, False, False, False],\n",
       "         fill_value='?',\n",
       "              dtype=object),\n",
       "  'params': [{'max_depth': 5, 'min_samples_split': 200},\n",
       "   {'max_depth': 5, 'min_samples_split': 400},\n",
       "   {'max_depth': 5, 'min_samples_split': 600},\n",
       "   {'max_depth': 5, 'min_samples_split': 800},\n",
       "   {'max_depth': 5, 'min_samples_split': 1000},\n",
       "   {'max_depth': 7, 'min_samples_split': 200},\n",
       "   {'max_depth': 7, 'min_samples_split': 400},\n",
       "   {'max_depth': 7, 'min_samples_split': 600},\n",
       "   {'max_depth': 7, 'min_samples_split': 800},\n",
       "   {'max_depth': 7, 'min_samples_split': 1000},\n",
       "   {'max_depth': 9, 'min_samples_split': 200},\n",
       "   {'max_depth': 9, 'min_samples_split': 400},\n",
       "   {'max_depth': 9, 'min_samples_split': 600},\n",
       "   {'max_depth': 9, 'min_samples_split': 800},\n",
       "   {'max_depth': 9, 'min_samples_split': 1000},\n",
       "   {'max_depth': 11, 'min_samples_split': 200},\n",
       "   {'max_depth': 11, 'min_samples_split': 400},\n",
       "   {'max_depth': 11, 'min_samples_split': 600},\n",
       "   {'max_depth': 11, 'min_samples_split': 800},\n",
       "   {'max_depth': 11, 'min_samples_split': 1000},\n",
       "   {'max_depth': 13, 'min_samples_split': 200},\n",
       "   {'max_depth': 13, 'min_samples_split': 400},\n",
       "   {'max_depth': 13, 'min_samples_split': 600},\n",
       "   {'max_depth': 13, 'min_samples_split': 800},\n",
       "   {'max_depth': 13, 'min_samples_split': 1000},\n",
       "   {'max_depth': 15, 'min_samples_split': 200},\n",
       "   {'max_depth': 15, 'min_samples_split': 400},\n",
       "   {'max_depth': 15, 'min_samples_split': 600},\n",
       "   {'max_depth': 15, 'min_samples_split': 800},\n",
       "   {'max_depth': 15, 'min_samples_split': 1000}],\n",
       "  'split0_test_score': array([-374.89427932, -375.07694545, -374.60208946, -374.30383499,\n",
       "         -374.58111151, -363.77008448, -363.45643995, -363.05035912,\n",
       "         -363.86579422, -364.14847704, -359.93827047, -360.25468716,\n",
       "         -359.84086999, -360.14745251, -360.64844375, -359.7275822 ,\n",
       "         -359.5724264 , -359.13230429, -359.66727921, -359.43295412,\n",
       "         -360.66720056, -359.3170275 , -358.84358373, -358.83131577,\n",
       "         -358.71316866, -362.17163669, -360.36332497, -359.42077642,\n",
       "         -359.05908182, -358.94680692]),\n",
       "  'split1_test_score': array([-372.73235088, -373.41790338, -372.2364806 , -373.28872315,\n",
       "         -374.53162047, -362.85152723, -363.38523186, -363.53466762,\n",
       "         -362.52657114, -363.95210341, -359.71434963, -359.91561568,\n",
       "         -359.64688556, -359.97786441, -360.1601974 , -359.15444852,\n",
       "         -358.55528073, -358.51350506, -358.63479392, -358.67380638,\n",
       "         -360.16983147, -358.99688519, -358.41634588, -358.50216704,\n",
       "         -358.43125153, -361.83846303, -359.82414929, -358.93182157,\n",
       "         -358.43492195, -358.30294683]),\n",
       "  'split2_test_score': array([-376.37879381, -375.91703488, -374.63076908, -376.25154651,\n",
       "         -375.57155349, -365.52847446, -366.04046906, -365.17131464,\n",
       "         -365.97824258, -366.1846977 , -361.83930289, -361.8753005 ,\n",
       "         -361.98352593, -361.6722501 , -361.63413813, -360.89917011,\n",
       "         -360.58987297, -360.46445233, -360.60953777, -360.44262139,\n",
       "         -362.19876513, -361.09136863, -360.77782093, -360.15717917,\n",
       "         -360.61779875, -363.7875743 , -361.65524483, -361.01673747,\n",
       "         -360.49417365, -360.43578163]),\n",
       "  'mean_test_score': array([-374.66847467, -374.80396124, -373.82311304, -374.61470155,\n",
       "         -374.89476182, -364.05002872, -364.29404696, -363.91878046,\n",
       "         -364.12353598, -364.76175938, -360.49730766, -360.68186778,\n",
       "         -360.49042716, -360.59918901, -360.81425976, -359.92706694,\n",
       "         -359.5725267 , -359.37008723, -359.63720364, -359.51646063,\n",
       "         -361.01193239, -359.80176044, -359.34591685, -359.16355399,\n",
       "         -359.25407298, -362.59922467, -360.61423969, -359.78977849,\n",
       "         -359.32939247, -359.22851179]),\n",
       "  'std_test_score': array([1.49719233, 1.03836565, 1.12197966, 1.229379  , 0.4789903 ,\n",
       "         1.11064191, 1.23524904, 0.90747639, 1.4208758 , 1.00935813,\n",
       "         0.95332699, 0.85516221, 1.05874625, 0.76192087, 0.61305059,\n",
       "         0.72611247, 0.83061881, 0.81402471, 0.80646625, 0.72452589,\n",
       "         0.86343229, 0.92120926, 1.02742235, 0.71533348, 0.97114376,\n",
       "         0.85122746, 0.76830826, 0.89025857, 0.86214085, 0.8932205 ]),\n",
       "  'rank_test_score': array([28, 29, 26, 27, 30, 22, 24, 21, 23, 25, 14, 17, 13, 15, 18, 12,  8,\n",
       "          6,  9,  7, 19, 11,  5,  1,  3, 20, 16, 10,  4,  2])},\n",
       " {'max_depth': 13, 'min_samples_split': 800},\n",
       " -359.1635539934444)"
      ]
     },
     "execution_count": 24,
     "metadata": {},
     "output_type": "execute_result"
    }
   ],
   "source": [
    "#initializing the parameters\n",
    "param_test2 = {'max_depth':range(5,16,2), 'min_samples_split':range(200,1001,200)}\n",
    "\n",
    "#Tuning the hyperparameters\n",
    "gsearch2 = GridSearchCV(estimator = GradientBoostingRegressor(learning_rate=0.1, n_estimators=80, max_features='sqrt', subsample=0.8, random_state=10), \n",
    "param_grid = param_test2, scoring='neg_mean_squared_error',n_jobs=4,verbose=2, cv=3)\n",
    "gsearch2.fit(x_train_encoded,y_train)\n",
    "\n",
    "#Printing the results \n",
    "gsearch2.cv_results_, gsearch2.best_params_, gsearch2.best_score_"
   ]
  },
  {
   "cell_type": "code",
   "execution_count": 25,
   "id": "b1bb3f4f",
   "metadata": {},
   "outputs": [
    {
     "data": {
      "text/plain": [
       "({'mean_fit_time': array([27.95832745, 27.8803122 , 27.94199022, 27.88599133, 27.62300372,\n",
       "         27.64099622, 27.9769973 , 28.20931697, 27.78497465, 27.79899128,\n",
       "         27.82999778, 27.73301959, 27.75000159, 27.89565802, 27.74666238,\n",
       "         27.49665999, 27.56903243, 27.72299425, 27.72365578, 27.71100163,\n",
       "         27.75999824, 27.57899936, 27.55932037, 27.40400243, 27.61267924,\n",
       "         27.71965535, 27.6623288 , 27.7803367 , 27.5903128 , 20.93400073]),\n",
       "  'std_fit_time': array([0.10485989, 0.11231038, 0.27132039, 0.13339425, 0.07478192,\n",
       "         0.17924214, 0.14729271, 0.12151116, 0.0749454 , 0.19882925,\n",
       "         0.12630699, 0.11060712, 0.15787971, 0.21820163, 0.16664322,\n",
       "         0.19397331, 0.06965101, 0.21839432, 0.08226966, 0.0971714 ,\n",
       "         0.09034561, 0.20157398, 0.09874407, 0.14074265, 0.10863883,\n",
       "         0.12469734, 0.13256523, 0.21032647, 0.07243286, 4.63493916]),\n",
       "  'mean_score_time': array([0.80133168, 0.81999985, 0.84000659, 0.84866206, 0.85100031,\n",
       "         0.84399994, 0.84302139, 0.83833989, 0.80432932, 0.80133367,\n",
       "         0.82366633, 0.85030421, 0.8276693 , 0.8040057 , 0.78900743,\n",
       "         0.80934103, 0.81731359, 0.82969173, 0.83265217, 0.86799463,\n",
       "         0.83366203, 0.80599713, 0.83799577, 0.84999537, 0.80667655,\n",
       "         0.83569145, 0.81799682, 0.81933141, 0.76904003, 0.64599252]),\n",
       "  'std_score_time': array([0.05938136, 0.05208537, 0.07282836, 0.06744019, 0.06533524,\n",
       "         0.0651212 , 0.07408937, 0.01320438, 0.04776372, 0.04347727,\n",
       "         0.04573123, 0.01344365, 0.05704316, 0.0580462 , 0.0595375 ,\n",
       "         0.07642686, 0.0631849 , 0.06812149, 0.0478399 , 0.02453673,\n",
       "         0.06330442, 0.05587341, 0.07416329, 0.04925533, 0.04801582,\n",
       "         0.053399  , 0.06256255, 0.01180975, 0.03247303, 0.04597888]),\n",
       "  'param_min_samples_leaf': masked_array(data=[30, 30, 30, 30, 30, 30, 40, 40, 40, 40, 40, 40, 50, 50,\n",
       "                     50, 50, 50, 50, 60, 60, 60, 60, 60, 60, 70, 70, 70, 70,\n",
       "                     70, 70],\n",
       "               mask=[False, False, False, False, False, False, False, False,\n",
       "                     False, False, False, False, False, False, False, False,\n",
       "                     False, False, False, False, False, False, False, False,\n",
       "                     False, False, False, False, False, False],\n",
       "         fill_value='?',\n",
       "              dtype=object),\n",
       "  'param_min_samples_split': masked_array(data=[1000, 1200, 1400, 1600, 1800, 2000, 1000, 1200, 1400,\n",
       "                     1600, 1800, 2000, 1000, 1200, 1400, 1600, 1800, 2000,\n",
       "                     1000, 1200, 1400, 1600, 1800, 2000, 1000, 1200, 1400,\n",
       "                     1600, 1800, 2000],\n",
       "               mask=[False, False, False, False, False, False, False, False,\n",
       "                     False, False, False, False, False, False, False, False,\n",
       "                     False, False, False, False, False, False, False, False,\n",
       "                     False, False, False, False, False, False],\n",
       "         fill_value='?',\n",
       "              dtype=object),\n",
       "  'params': [{'min_samples_leaf': 30, 'min_samples_split': 1000},\n",
       "   {'min_samples_leaf': 30, 'min_samples_split': 1200},\n",
       "   {'min_samples_leaf': 30, 'min_samples_split': 1400},\n",
       "   {'min_samples_leaf': 30, 'min_samples_split': 1600},\n",
       "   {'min_samples_leaf': 30, 'min_samples_split': 1800},\n",
       "   {'min_samples_leaf': 30, 'min_samples_split': 2000},\n",
       "   {'min_samples_leaf': 40, 'min_samples_split': 1000},\n",
       "   {'min_samples_leaf': 40, 'min_samples_split': 1200},\n",
       "   {'min_samples_leaf': 40, 'min_samples_split': 1400},\n",
       "   {'min_samples_leaf': 40, 'min_samples_split': 1600},\n",
       "   {'min_samples_leaf': 40, 'min_samples_split': 1800},\n",
       "   {'min_samples_leaf': 40, 'min_samples_split': 2000},\n",
       "   {'min_samples_leaf': 50, 'min_samples_split': 1000},\n",
       "   {'min_samples_leaf': 50, 'min_samples_split': 1200},\n",
       "   {'min_samples_leaf': 50, 'min_samples_split': 1400},\n",
       "   {'min_samples_leaf': 50, 'min_samples_split': 1600},\n",
       "   {'min_samples_leaf': 50, 'min_samples_split': 1800},\n",
       "   {'min_samples_leaf': 50, 'min_samples_split': 2000},\n",
       "   {'min_samples_leaf': 60, 'min_samples_split': 1000},\n",
       "   {'min_samples_leaf': 60, 'min_samples_split': 1200},\n",
       "   {'min_samples_leaf': 60, 'min_samples_split': 1400},\n",
       "   {'min_samples_leaf': 60, 'min_samples_split': 1600},\n",
       "   {'min_samples_leaf': 60, 'min_samples_split': 1800},\n",
       "   {'min_samples_leaf': 60, 'min_samples_split': 2000},\n",
       "   {'min_samples_leaf': 70, 'min_samples_split': 1000},\n",
       "   {'min_samples_leaf': 70, 'min_samples_split': 1200},\n",
       "   {'min_samples_leaf': 70, 'min_samples_split': 1400},\n",
       "   {'min_samples_leaf': 70, 'min_samples_split': 1600},\n",
       "   {'min_samples_leaf': 70, 'min_samples_split': 1800},\n",
       "   {'min_samples_leaf': 70, 'min_samples_split': 2000}],\n",
       "  'split0_test_score': array([-364.14810494, -364.21453272, -364.131109  , -364.19176925,\n",
       "         -363.9023036 , -364.47742306, -364.32299682, -364.09114564,\n",
       "         -364.12958336, -364.19289449, -363.9023036 , -364.47742306,\n",
       "         -364.09308983, -363.77449354, -364.12958336, -364.19215184,\n",
       "         -363.85238806, -364.47742306, -364.04225472, -363.64571402,\n",
       "         -364.17828689, -364.19215184, -363.85238806, -364.47742306,\n",
       "         -364.02046009, -364.5819436 , -364.17721671, -364.44917977,\n",
       "         -363.87105437, -364.47703502]),\n",
       "  'split1_test_score': array([-363.85051871, -363.77127327, -363.30353385, -363.90577302,\n",
       "         -364.3718933 , -363.56956318, -363.84843881, -363.77371848,\n",
       "         -363.3864318 , -363.90446759, -364.2888858 , -363.56956318,\n",
       "         -363.35978326, -363.57573464, -363.27081684, -363.89166123,\n",
       "         -364.2846038 , -363.56990841, -363.40652674, -363.53996456,\n",
       "         -363.27136522, -363.86529447, -364.36723348, -363.56990841,\n",
       "         -363.84640113, -363.94558847, -363.27152896, -364.03273199,\n",
       "         -364.41834182, -363.59842535]),\n",
       "  'split2_test_score': array([-365.89177883, -365.64458344, -365.78188872, -366.02783243,\n",
       "         -365.19588806, -366.1658656 , -366.00788483, -365.64477718,\n",
       "         -365.78427418, -366.02785977, -365.19588806, -366.1658656 ,\n",
       "         -366.55011713, -365.5869944 , -365.77306459, -366.02658903,\n",
       "         -365.07535252, -366.1658656 , -366.69418084, -365.68029933,\n",
       "         -366.15488648, -365.56620302, -365.0752952 , -366.1656335 ,\n",
       "         -365.6227758 , -365.93362789, -366.15597255, -366.02994222,\n",
       "         -365.07623884, -366.1656335 ]),\n",
       "  'mean_test_score': array([-364.63013416, -364.54346314, -364.40551052, -364.70845823,\n",
       "         -364.49002832, -364.73761728, -364.72644015, -364.50321376,\n",
       "         -364.43342978, -364.70840728, -364.46235915, -364.73761728,\n",
       "         -364.66766341, -364.31240752, -364.39115493, -364.70346737,\n",
       "         -364.40411479, -364.73773236, -364.71432077, -364.2886593 ,\n",
       "         -364.5348462 , -364.54121644, -364.43163891, -364.73765499,\n",
       "         -364.49654567, -364.82038665, -364.53490607, -364.83728466,\n",
       "         -364.45521168, -364.74703129]),\n",
       "  'std_test_score': array([0.90035173, 0.7993619 , 1.03022097, 0.94021617, 0.53466943,\n",
       "         1.07578571, 0.92659832, 0.81754318, 1.00221555, 0.94039484,\n",
       "         0.5421623 , 1.07578571, 1.36434567, 0.90491438, 1.03814762,\n",
       "         0.94359661, 0.50637448, 1.07566077, 1.42382629, 0.98498467,\n",
       "         1.20388943, 0.73695638, 0.50132259, 1.07555805, 0.79952896,\n",
       "         0.8289417 , 1.20442516, 0.86030275, 0.49270474, 1.06530525]),\n",
       "  'rank_test_score': array([17, 16,  5, 21, 10, 24, 23, 12,  7, 20,  9, 24, 18,  2,  3, 19,  4,\n",
       "         27, 22,  1, 13, 15,  6, 26, 11, 29, 14, 30,  8, 28])},\n",
       " {'min_samples_leaf': 60, 'min_samples_split': 1200},\n",
       " -364.2886592992395)"
      ]
     },
     "execution_count": 25,
     "metadata": {},
     "output_type": "execute_result"
    }
   ],
   "source": [
    "param_test3 = {'min_samples_split':range(1000,2100,200), 'min_samples_leaf':range(30,71,10)}\n",
    "\n",
    "gsearch3 = GridSearchCV(estimator = GradientBoostingRegressor(learning_rate=0.1, n_estimators=80,max_depth=7,max_features='sqrt', subsample=0.8, random_state=10), \n",
    "param_grid = param_test3, scoring='neg_mean_squared_error',n_jobs=4, cv=3)\n",
    "gsearch3.fit(x_train_encoded,y_train)\n",
    "\n",
    "gsearch3.cv_results_, gsearch3.best_params_, gsearch3.best_score_"
   ]
  },
  {
   "cell_type": "code",
   "execution_count": 26,
   "id": "104cf1ab",
   "metadata": {},
   "outputs": [
    {
     "name": "stdout",
     "output_type": "stream",
     "text": [
      "Fitting 3 folds for each of 7 candidates, totalling 21 fits\n"
     ]
    },
    {
     "data": {
      "text/plain": [
       "({'mean_fit_time': array([47.61096938, 56.70399618, 65.49766684, 74.40766184, 82.3706696 ,\n",
       "         90.61564374, 82.62833548]),\n",
       "  'std_fit_time': array([ 0.13626213,  0.05944522,  0.34824046,  0.25154006,  0.24819054,\n",
       "          0.36250739, 13.50766054]),\n",
       "  'mean_score_time': array([1.1186653 , 1.12735319, 1.08132895, 1.08366831, 1.11299276,\n",
       "         1.07599751, 0.9309996 ]),\n",
       "  'std_score_time': array([0.07383741, 0.03412964, 0.00981061, 0.02347356, 0.04439421,\n",
       "         0.00216249, 0.0480478 ]),\n",
       "  'param_max_features': masked_array(data=[7, 9, 11, 13, 15, 17, 19],\n",
       "               mask=[False, False, False, False, False, False, False],\n",
       "         fill_value='?',\n",
       "              dtype=object),\n",
       "  'params': [{'max_features': 7},\n",
       "   {'max_features': 9},\n",
       "   {'max_features': 11},\n",
       "   {'max_features': 13},\n",
       "   {'max_features': 15},\n",
       "   {'max_features': 17},\n",
       "   {'max_features': 19}],\n",
       "  'split0_test_score': array([-358.58214853, -358.11369011, -357.77948066, -357.63106355,\n",
       "         -357.7804679 , -357.59578338, -357.82939699]),\n",
       "  'split1_test_score': array([-357.81764105, -357.50985605, -357.36173783, -357.45187726,\n",
       "         -357.30116069, -357.0062932 , -357.38288851]),\n",
       "  'split2_test_score': array([-359.92438404, -359.64771416, -359.22667153, -359.41578309,\n",
       "         -359.27684143, -359.25271348, -359.40633731]),\n",
       "  'mean_test_score': array([-358.77472454, -358.42375344, -358.12263001, -358.1662413 ,\n",
       "         -358.11949001, -357.95159669, -358.2062076 ]),\n",
       "  'std_test_score': array([0.87078725, 0.89989398, 0.79908616, 0.88658255, 0.84143947,\n",
       "         0.95098312, 0.86797694]),\n",
       "  'rank_test_score': array([7, 6, 3, 4, 2, 1, 5])},\n",
       " {'max_features': 17},\n",
       " -357.95159668966653)"
      ]
     },
     "execution_count": 26,
     "metadata": {},
     "output_type": "execute_result"
    }
   ],
   "source": [
    "param_test4 = {'max_features':range(7,20,2)}\n",
    "\n",
    "gsearch4 = GridSearchCV(estimator = GradientBoostingRegressor(learning_rate=0.1, n_estimators=80,max_depth=11, min_samples_split=800, min_samples_leaf=60, subsample=0.8, random_state=10),\n",
    "param_grid = param_test4, scoring='neg_mean_squared_error',n_jobs=4, cv=3,verbose=3)\n",
    "gsearch4.fit(x_train_encoded,y_train)\n",
    "\n",
    "gsearch4.cv_results_,gsearch4.best_params_,gsearch4.best_score_"
   ]
  },
  {
   "cell_type": "markdown",
   "id": "f9f80f0c",
   "metadata": {},
   "source": [
    "<b> The Best parameters so far obtained are: \n",
    "1) min_samples_split = 800\n",
    "\n",
    "2) min_samples_leaf = 60\n",
    "\n",
    "3) max_depth = 11\n",
    "\n",
    "4) max_features = 13"
   ]
  },
  {
   "cell_type": "code",
   "execution_count": 27,
   "id": "89bed4c6",
   "metadata": {},
   "outputs": [
    {
     "name": "stdout",
     "output_type": "stream",
     "text": [
      "Fitting 3 folds for each of 6 candidates, totalling 18 fits\n"
     ]
    },
    {
     "data": {
      "text/plain": [
       "({'mean_fit_time': array([62.22569497, 66.93234118, 69.28267169, 73.44666934, 77.94866808,\n",
       "         64.48698235]),\n",
       "  'std_fit_time': array([ 0.14478044,  2.53739215,  0.54710399,  0.24154987,  0.14142083,\n",
       "         10.69023987]),\n",
       "  'mean_score_time': array([1.13297407, 1.1126678 , 1.07199748, 1.09866873, 1.08500171,\n",
       "         0.92400058]),\n",
       "  'std_score_time': array([0.04278865, 0.03092378, 0.02298931, 0.00262692, 0.00777899,\n",
       "         0.06047476]),\n",
       "  'param_subsample': masked_array(data=[0.6, 0.7, 0.75, 0.8, 0.85, 0.9],\n",
       "               mask=[False, False, False, False, False, False],\n",
       "         fill_value='?',\n",
       "              dtype=object),\n",
       "  'params': [{'subsample': 0.6},\n",
       "   {'subsample': 0.7},\n",
       "   {'subsample': 0.75},\n",
       "   {'subsample': 0.8},\n",
       "   {'subsample': 0.85},\n",
       "   {'subsample': 0.9}],\n",
       "  'split0_test_score': array([-357.83325123, -357.68915306, -357.73886256, -357.63106355,\n",
       "         -357.7323972 , -357.63466448]),\n",
       "  'split1_test_score': array([-357.38303289, -357.28080745, -357.18800619, -357.45187726,\n",
       "         -357.16679535, -357.27907563]),\n",
       "  'split2_test_score': array([-359.30725823, -359.17530225, -359.41689415, -359.41578309,\n",
       "         -359.47610552, -359.16727566]),\n",
       "  'mean_test_score': array([-358.17451412, -358.04842092, -358.11458763, -358.1662413 ,\n",
       "         -358.12509936, -358.02700526]),\n",
       "  'std_test_score': array([0.82178913, 0.81407726, 0.94793192, 0.88658255, 0.98281555,\n",
       "         0.8192571 ]),\n",
       "  'rank_test_score': array([6, 2, 3, 5, 4, 1])},\n",
       " {'subsample': 0.9},\n",
       " -358.02700525991395)"
      ]
     },
     "execution_count": 27,
     "metadata": {},
     "output_type": "execute_result"
    }
   ],
   "source": [
    "param_test5 = {'subsample':[0.6,0.7,0.75,0.8,0.85,0.9]}\n",
    "gsearch5 = GridSearchCV(estimator = GradientBoostingRegressor(learning_rate=0.1, n_estimators=80,max_depth=11,min_samples_split=800, min_samples_leaf=60, subsample=0.8, random_state=10,max_features=13),\n",
    "param_grid = param_test5, scoring='neg_mean_squared_error',n_jobs=4, cv=3,verbose=4)\n",
    "gsearch5.fit(x_train_encoded,y_train)\n",
    "gsearch5.cv_results_, gsearch5.best_params_, gsearch5.best_score_"
   ]
  },
  {
   "cell_type": "markdown",
   "id": "a2ed479c",
   "metadata": {},
   "source": [
    "<b> Using the best hyperparameters and tune the learning rate and n_estimators"
   ]
  },
  {
   "cell_type": "code",
   "execution_count": 2,
   "id": "613a32c1",
   "metadata": {},
   "outputs": [
    {
     "ename": "NameError",
     "evalue": "name 'GradientBoostingRegressor' is not defined",
     "output_type": "error",
     "traceback": [
      "\u001b[1;31m---------------------------------------------------------------------------\u001b[0m",
      "\u001b[1;31mNameError\u001b[0m                                 Traceback (most recent call last)",
      "\u001b[1;32m~\\AppData\\Local\\Temp/ipykernel_6452/1174238552.py\u001b[0m in \u001b[0;36m<module>\u001b[1;34m\u001b[0m\n\u001b[0;32m      1\u001b[0m \u001b[1;31m#learning rate with 0.05 with the best parameters\u001b[0m\u001b[1;33m\u001b[0m\u001b[1;33m\u001b[0m\u001b[0m\n\u001b[1;32m----> 2\u001b[1;33m \u001b[0mgbm_tuned_1\u001b[0m \u001b[1;33m=\u001b[0m \u001b[0mGradientBoostingRegressor\u001b[0m\u001b[1;33m(\u001b[0m\u001b[0mlearning_rate\u001b[0m\u001b[1;33m=\u001b[0m\u001b[1;36m0.05\u001b[0m\u001b[1;33m,\u001b[0m \u001b[0mn_estimators\u001b[0m\u001b[1;33m=\u001b[0m\u001b[1;36m160\u001b[0m\u001b[1;33m,\u001b[0m\u001b[0mmax_depth\u001b[0m\u001b[1;33m=\u001b[0m\u001b[1;36m11\u001b[0m\u001b[1;33m,\u001b[0m \u001b[0mmin_samples_split\u001b[0m\u001b[1;33m=\u001b[0m\u001b[1;36m800\u001b[0m\u001b[1;33m,\u001b[0m\u001b[0mmin_samples_leaf\u001b[0m\u001b[1;33m=\u001b[0m\u001b[1;36m60\u001b[0m\u001b[1;33m,\u001b[0m \u001b[0msubsample\u001b[0m\u001b[1;33m=\u001b[0m\u001b[1;36m0.6\u001b[0m\u001b[1;33m,\u001b[0m \u001b[0mrandom_state\u001b[0m\u001b[1;33m=\u001b[0m\u001b[1;36m10\u001b[0m\u001b[1;33m,\u001b[0m \u001b[0mmax_features\u001b[0m\u001b[1;33m=\u001b[0m\u001b[1;36m13\u001b[0m\u001b[1;33m)\u001b[0m\u001b[1;33m\u001b[0m\u001b[1;33m\u001b[0m\u001b[0m\n\u001b[0m\u001b[0;32m      3\u001b[0m \u001b[0mgbm_tuned_1\u001b[0m\u001b[1;33m.\u001b[0m\u001b[0mfit\u001b[0m\u001b[1;33m(\u001b[0m\u001b[0mx_train_encoded\u001b[0m\u001b[1;33m,\u001b[0m \u001b[0my_train\u001b[0m\u001b[1;33m)\u001b[0m\u001b[1;33m\u001b[0m\u001b[1;33m\u001b[0m\u001b[0m\n\u001b[0;32m      4\u001b[0m \u001b[1;33m\u001b[0m\u001b[0m\n\u001b[0;32m      5\u001b[0m \u001b[1;31m#Predict training set:\u001b[0m\u001b[1;33m\u001b[0m\u001b[1;33m\u001b[0m\u001b[0m\n",
      "\u001b[1;31mNameError\u001b[0m: name 'GradientBoostingRegressor' is not defined"
     ]
    }
   ],
   "source": [
    "#learning rate with 0.05 with the best parameters\n",
    "gbm_tuned_1 = GradientBoostingRegressor(learning_rate=0.05, n_estimators=160,max_depth=11, min_samples_split=800,min_samples_leaf=60, subsample=0.6, random_state=10, max_features=13)\n",
    "gbm_tuned_1.fit(x_train_encoded, y_train)\n",
    "\n",
    "#Predict training set:\n",
    "dtrain_predictions = gbm_tuned_1.predict(x_train_encoded)\n",
    "\n",
    "#MSE for the training set\n",
    "print(mean_squared_error(y_train,dtrain_predictions))"
   ]
  },
  {
   "cell_type": "code",
   "execution_count": 29,
   "id": "f228eb2e",
   "metadata": {},
   "outputs": [
    {
     "name": "stdout",
     "output_type": "stream",
     "text": [
      "335.4503335574303\n"
     ]
    }
   ],
   "source": [
    "#learning rate with 0.05 and increasing n_estimators increased to 800\n",
    "gbm_tuned_2 = GradientBoostingRegressor(learning_rate=0.05, n_estimators=800,max_depth=11, min_samples_split=800,min_samples_leaf=60, subsample=0.6, random_state=10, max_features=13)\n",
    "gbm_tuned_2.fit(x_train_encoded, y_train)\n",
    "\n",
    "#Predict training set:\n",
    "dtrain_predictions = gbm_tuned_2.predict(x_train_encoded)\n",
    "#dtrain_predprob = gbm_tuned_1.predict_proba(x_train_encoded)[:,1]\n",
    "print(mean_squared_error(y_train,dtrain_predictions))\n"
   ]
  },
  {
   "cell_type": "code",
   "execution_count": 30,
   "id": "3ab7cc6f",
   "metadata": {},
   "outputs": [],
   "source": [
    "gbm_tuned_3 = GradientBoostingRegressor(learning_rate=0.05, n_estimators=800,max_depth=11, min_samples_split=800,min_samples_leaf=60, subsample=0.6, random_state=10, max_features=13)\n",
    "error_1 = cross_val_score(gbm_tuned_3,x_train_encoded,y_train,cv =3, scoring='neg_mean_squared_error')"
   ]
  },
  {
   "cell_type": "code",
   "execution_count": 31,
   "id": "a44665d4",
   "metadata": {},
   "outputs": [],
   "source": [
    "gbm_tuned_4 = GradientBoostingRegressor(learning_rate=0.05, n_estimators=160,max_depth=11, min_samples_split=800,min_samples_leaf=60, subsample=0.6, random_state=10, max_features=13)\n",
    "error_2 = cross_val_score(gbm_tuned_4,x_train_encoded,y_train,cv =3, scoring='neg_mean_squared_error')"
   ]
  },
  {
   "cell_type": "markdown",
   "id": "9a58184b",
   "metadata": {},
   "source": [
    "<b> Higher number of n_estimators overfits the model "
   ]
  },
  {
   "cell_type": "code",
   "execution_count": 32,
   "id": "eaab14a2",
   "metadata": {},
   "outputs": [
    {
     "name": "stdout",
     "output_type": "stream",
     "text": [
      "-360.62520018141777 -356.82856983346187\n"
     ]
    }
   ],
   "source": [
    "print(error_1.mean(),error_2.mean())"
   ]
  },
  {
   "cell_type": "code",
   "execution_count": 33,
   "id": "f7eb4da2",
   "metadata": {},
   "outputs": [
    {
     "name": "stdout",
     "output_type": "stream",
     "text": [
      "356.8859952136066\n"
     ]
    }
   ],
   "source": [
    "gbm4_pred = gbm_tuned_1.predict(x_val_encoded)\n",
    "print(mean_squared_error(y_val,gbm4_pred))"
   ]
  },
  {
   "cell_type": "markdown",
   "id": "9fd803f8",
   "metadata": {},
   "source": [
    "### Deep Neural Networks "
   ]
  },
  {
   "cell_type": "code",
   "execution_count": 34,
   "id": "bee21d31",
   "metadata": {},
   "outputs": [],
   "source": [
    "from keras.callbacks import ModelCheckpoint\n",
    "from keras.models import Sequential\n",
    "from keras.layers import Dense, Activation, Flatten\n",
    "from keras.layers import Dropout"
   ]
  },
  {
   "cell_type": "markdown",
   "id": "3ead79b2",
   "metadata": {},
   "source": [
    "### No dropouts"
   ]
  },
  {
   "cell_type": "code",
   "execution_count": 35,
   "id": "f5ef5d10",
   "metadata": {},
   "outputs": [
    {
     "name": "stdout",
     "output_type": "stream",
     "text": [
      "Model: \"sequential\"\n",
      "_________________________________________________________________\n",
      " Layer (type)                Output Shape              Param #   \n",
      "=================================================================\n",
      " dense (Dense)               (None, 128)               4096      \n",
      "                                                                 \n",
      " dense_1 (Dense)             (None, 256)               33024     \n",
      "                                                                 \n",
      " dense_2 (Dense)             (None, 256)               65792     \n",
      "                                                                 \n",
      " dense_3 (Dense)             (None, 256)               65792     \n",
      "                                                                 \n",
      " dense_4 (Dense)             (None, 1)                 257       \n",
      "                                                                 \n",
      "=================================================================\n",
      "Total params: 168,961\n",
      "Trainable params: 168,961\n",
      "Non-trainable params: 0\n",
      "_________________________________________________________________\n"
     ]
    }
   ],
   "source": [
    "NN_model = Sequential()\n",
    "\n",
    "# The Input Layer :\n",
    "NN_model.add(Dense(128, kernel_initializer='normal',input_dim = x_train_encoded.shape[1], activation='relu'))\n",
    "\n",
    "# The Hidden Layers :\n",
    "NN_model.add(Dense(256, kernel_initializer='normal',activation='relu'))\n",
    "NN_model.add(Dense(256, kernel_initializer='normal',activation='relu'))\n",
    "NN_model.add(Dense(256, kernel_initializer='normal',activation='relu'))\n",
    "\n",
    "# The Output Layer :\n",
    "NN_model.add(Dense(1, kernel_initializer='normal',activation='linear'))\n",
    "\n",
    "# Compile the network :\n",
    "NN_model.compile(loss='mean_absolute_error', optimizer='adam', metrics=['mse'])\n",
    "NN_model.summary()"
   ]
  },
  {
   "cell_type": "code",
   "execution_count": 36,
   "id": "dac33d4c",
   "metadata": {},
   "outputs": [
    {
     "name": "stdout",
     "output_type": "stream",
     "text": [
      "Epoch 1/20\n",
      "17500/17500 [==============================] - 37s 2ms/step - loss: 16.3513 - mse: 426.9840 - val_loss: 16.7250 - val_mse: 445.9255\n",
      "Epoch 2/20\n",
      "17500/17500 [==============================] - 35s 2ms/step - loss: 15.7546 - mse: 381.9223 - val_loss: 16.0920 - val_mse: 393.9872\n",
      "Epoch 3/20\n",
      "17500/17500 [==============================] - 35s 2ms/step - loss: 15.6748 - mse: 377.1689 - val_loss: 15.6669 - val_mse: 381.3178\n",
      "Epoch 4/20\n",
      "17500/17500 [==============================] - 35s 2ms/step - loss: 15.5821 - mse: 371.1630 - val_loss: 15.5123 - val_mse: 364.5983\n",
      "Epoch 5/20\n",
      "17500/17500 [==============================] - 35s 2ms/step - loss: 15.5365 - mse: 368.7537 - val_loss: 15.4465 - val_mse: 361.8874\n",
      "Epoch 6/20\n",
      "17500/17500 [==============================] - 35s 2ms/step - loss: 15.5192 - mse: 367.7304 - val_loss: 15.4445 - val_mse: 363.0990\n",
      "Epoch 7/20\n",
      "17500/17500 [==============================] - 35s 2ms/step - loss: 15.5007 - mse: 366.7715 - val_loss: 15.5483 - val_mse: 365.4628\n",
      "Epoch 8/20\n",
      "17500/17500 [==============================] - 35s 2ms/step - loss: 15.4890 - mse: 365.6201 - val_loss: 15.5084 - val_mse: 366.7603\n",
      "Epoch 9/20\n",
      "17500/17500 [==============================] - 35s 2ms/step - loss: 15.4826 - mse: 365.5962 - val_loss: 15.4222 - val_mse: 360.9038\n",
      "Epoch 10/20\n",
      "17500/17500 [==============================] - 35s 2ms/step - loss: 15.4669 - mse: 364.7535 - val_loss: 15.4056 - val_mse: 360.9002\n",
      "Epoch 11/20\n",
      "17500/17500 [==============================] - 35s 2ms/step - loss: 15.4545 - mse: 364.1012 - val_loss: 15.5128 - val_mse: 365.1481\n",
      "Epoch 12/20\n",
      "17500/17500 [==============================] - 35s 2ms/step - loss: 15.4485 - mse: 363.7090 - val_loss: 15.4495 - val_mse: 362.6985\n",
      "Epoch 13/20\n",
      "17500/17500 [==============================] - 35s 2ms/step - loss: 15.4447 - mse: 363.3211 - val_loss: 15.4224 - val_mse: 362.8862\n",
      "Epoch 14/20\n",
      "17500/17500 [==============================] - 35s 2ms/step - loss: 15.4327 - mse: 362.9438 - val_loss: 15.4452 - val_mse: 362.5800\n",
      "Epoch 15/20\n",
      "17500/17500 [==============================] - 35s 2ms/step - loss: 15.4261 - mse: 362.4112 - val_loss: 15.3958 - val_mse: 360.3142\n",
      "Epoch 16/20\n",
      "17500/17500 [==============================] - 35s 2ms/step - loss: 15.4259 - mse: 362.6740 - val_loss: 15.4434 - val_mse: 362.6627\n",
      "Epoch 17/20\n",
      "17500/17500 [==============================] - 35s 2ms/step - loss: 15.4176 - mse: 361.9492 - val_loss: 15.4261 - val_mse: 363.1042\n",
      "Epoch 18/20\n",
      "17500/17500 [==============================] - 35s 2ms/step - loss: 15.4173 - mse: 362.0588 - val_loss: 15.4511 - val_mse: 364.3118\n",
      "Epoch 19/20\n",
      "17500/17500 [==============================] - 35s 2ms/step - loss: 15.4083 - mse: 361.4440 - val_loss: 15.5083 - val_mse: 367.7781\n",
      "Epoch 20/20\n",
      "17500/17500 [==============================] - 35s 2ms/step - loss: 15.4108 - mse: 361.7673 - val_loss: 15.4376 - val_mse: 362.1185\n"
     ]
    },
    {
     "data": {
      "text/plain": [
       "<keras.callbacks.History at 0x20b77b0eee0>"
      ]
     },
     "execution_count": 36,
     "metadata": {},
     "output_type": "execute_result"
    }
   ],
   "source": [
    "NN_model.fit(x_train_encoded, y_train, epochs=20, batch_size=32, validation_split = 0.2)"
   ]
  },
  {
   "cell_type": "code",
   "execution_count": 37,
   "id": "1510e872",
   "metadata": {},
   "outputs": [
    {
     "name": "stdout",
     "output_type": "stream",
     "text": [
      "360.7175204036213\n"
     ]
    }
   ],
   "source": [
    "predictions = NN_model.predict(x_val_encoded)\n",
    "print(mean_squared_error(y_val,predictions))"
   ]
  },
  {
   "cell_type": "markdown",
   "id": "427f4a82",
   "metadata": {},
   "source": [
    "#### activation layer ReLu, with less hidden layers and nodes "
   ]
  },
  {
   "cell_type": "code",
   "execution_count": null,
   "id": "36457cae",
   "metadata": {},
   "outputs": [],
   "source": [
    "NN_model_2 = Sequential()\n",
    "\n",
    "# The Input Layer :\n",
    "NN_model_2.add(Dense(64, kernel_initializer='normal',input_dim = x_train_encoded.shape[1], activation='selu'))\n",
    "\n",
    "# The Hidden Layers :\n",
    "NN_model_2.add(Dense(128, kernel_initializer='normal',activation='selu'))\n",
    "NN_model_2.add(Dense(128, kernel_initializer='normal',activation='selu'))\n",
    "\n",
    "# The Output Layer :\n",
    "NN_model_2.add(Dense(1, kernel_initializer='normal',activation='linear'))\n",
    "\n",
    "# Compile the network :\n",
    "NN_model_2.compile(loss='mean_absolute_error', optimizer='adam', metrics=['mse'])\n",
    "NN_model_2.summary()"
   ]
  },
  {
   "cell_type": "code",
   "execution_count": null,
   "id": "7275ab14",
   "metadata": {},
   "outputs": [],
   "source": [
    "NN_model_2.fit(x_train_encoded, y_train, epochs=20, batch_size=32, validation_split = 0.2)"
   ]
  },
  {
   "cell_type": "code",
   "execution_count": null,
   "id": "2de6f89c",
   "metadata": {},
   "outputs": [],
   "source": [
    "predictions_2 = NN_model_2.predict(x_val_encoded)\n",
    "print(mean_squared_error(y_val,predictions_2))"
   ]
  },
  {
   "cell_type": "markdown",
   "id": "85d68a4b",
   "metadata": {},
   "source": [
    "### with dropouts"
   ]
  },
  {
   "cell_type": "code",
   "execution_count": null,
   "id": "b4210d2e",
   "metadata": {},
   "outputs": [],
   "source": [
    "NN_model_3 = Sequential()\n",
    "\n",
    "# The Input Layer :\n",
    "NN_model_3.add(Dense(64, kernel_initializer='normal',input_dim = x_train_encoded.shape[1], activation='selu'))\n",
    "NN_model_3.add(Dropout(0.2))\n",
    "# The Hidden Layers :\n",
    "NN_model_3.add(Dense(128, kernel_initializer='normal',activation='selu'))\n",
    "NN_model_3.add(Dropout(0.2))\n",
    "NN_model_3.add(Dense(128, kernel_initializer='normal',activation='selu'))\n",
    "NN_model_3.add(Dropout(0.2))\n",
    "# The Output Layer :\n",
    "NN_model_3.add(Dense(1, kernel_initializer='normal',activation='linear'))\n",
    "\n",
    "# Compile the network :\n",
    "NN_model_3.compile(loss='mean_absolute_error', optimizer='adamax', metrics=['mse'])\n",
    "NN_model_3.summary()\n"
   ]
  },
  {
   "cell_type": "code",
   "execution_count": null,
   "id": "9499c47a",
   "metadata": {},
   "outputs": [],
   "source": [
    "NN_model_3.fit(x_train_encoded, y_train, epochs=20, batch_size=32, validation_split = 0.2)"
   ]
  },
  {
   "cell_type": "code",
   "execution_count": null,
   "id": "eee1aa73",
   "metadata": {},
   "outputs": [],
   "source": [
    "predictions_3 = NN_model_3.predict(x_val_encoded)\n",
    "print(mean_squared_error(y_val,predictions_3))"
   ]
  }
 ],
 "metadata": {
  "kernelspec": {
   "display_name": "Python 3 (ipykernel)",
   "language": "python",
   "name": "python3"
  },
  "language_info": {
   "codemirror_mode": {
    "name": "ipython",
    "version": 3
   },
   "file_extension": ".py",
   "mimetype": "text/x-python",
   "name": "python",
   "nbconvert_exporter": "python",
   "pygments_lexer": "ipython3",
   "version": "3.9.7"
  }
 },
 "nbformat": 4,
 "nbformat_minor": 5
}
