{
 "cells": [
  {
   "cell_type": "markdown",
   "id": "45f9772e",
   "metadata": {},
   "source": [
    "# Creating splits and baseline model"
   ]
  },
  {
   "cell_type": "code",
   "execution_count": 1,
   "id": "c47507cb",
   "metadata": {},
   "outputs": [],
   "source": [
    "import pandas as pd\n",
    "from sklearn.model_selection import cross_val_score,train_test_split\n",
    "from sklearn.preprocessing import StandardScaler\n",
    "from sklearn.linear_model import LinearRegression\n",
    "from sklearn.metrics import mean_squared_error\n",
    "import warnings\n",
    "warnings.filterwarnings('ignore')"
   ]
  },
  {
   "cell_type": "code",
   "execution_count": 2,
   "id": "9f2128f5",
   "metadata": {},
   "outputs": [],
   "source": [
    "def unique_and_null_categorical(dataset):\n",
    "    dataset_cat = pd.DataFrame(dataset.select_dtypes(include='object'))\n",
    "    for i in dataset_cat.columns:\n",
    "        if i == 'jobId':\n",
    "            print('JobId is Unique')\n",
    "            print('Unique values in jobId:',dataset[i].nunique(),'\\n')\n",
    "        else:\n",
    "            print(i,\":\",'\\n',dataset[i].unique(),'\\n','number of unique values:',dataset[i].nunique())\n",
    "            print();\n",
    "            \n",
    "def encode_and_bind(original_dataframe):\n",
    "    #selecting all the categorical columns\n",
    "    dataset_cat = pd.DataFrame(original_dataframe.select_dtypes(include='object'))\n",
    "    df = original_dataframe\n",
    "    #dummy encoding the categorical variables and removing the original column\n",
    "    for i in dataset_cat:        \n",
    "        dummies = pd.get_dummies(df[[i]])\n",
    "        df = pd.concat([df, dummies], axis=1)\n",
    "        df = df.drop([i], axis=1)\n",
    "    return(df) \n",
    "\n",
    "def highest_salary_per_category(dataframe,category,target='salary'):\n",
    "    #grouping data and reseting it's index and returning the sorted table\n",
    "    grouped_table = dataframe.groupby(category)[target].mean().to_frame().reset_index()\n",
    "    return grouped_table.sort_values(target).reset_index()\n",
    "\n",
    "def scale_data(dataset,test_data = 0, by = 'SS'): \n",
    "    \n",
    "    df = dataset.copy()\n",
    "    \n",
    "    #Import various scalers    \n",
    "    from sklearn.preprocessing import RobustScaler,MaxAbsScaler,StandardScaler,MinMaxScaler\n",
    "    \n",
    "    if by == 'SS':\n",
    "        scaler = StandardScaler()\n",
    "    elif by == 'MM': \n",
    "        scaler = MinMaxScaler()\n",
    "    elif by == 'MA':\n",
    "        scaler = MaxAbsScaler()\n",
    "    elif by == 'RS': \n",
    "        scaler = RobustScaler()\n",
    "    \n",
    "    #fitting training data with the scaler\n",
    "    scaler.fit(df[['yearsExperience','milesFromMetropolis']])\n",
    "    df[['yearsExperience','milesFromMetropolis']] = scaler.transform(df[['yearsExperience','milesFromMetropolis']])\n",
    "    \n",
    "    #If test data is given scale it according to the train_data metrics\n",
    "    if isinstance(test_data,pd.DataFrame) == True:\n",
    "        test_data[['yearsExperience','milesFromMetropolis']] = scaler.transform(test_data[['yearsExperience','milesFromMetropolis']])\n",
    "    \n",
    "    #return the scaler parameters, train and test data\n",
    "    return df,scaler\n",
    "\n",
    "def ordinal_scale(data):\n",
    "    \n",
    "    df = data.copy()\n",
    "    \n",
    "    #get the sorted values in ascending order\n",
    "    jobType = highest_salary_per_category(full_data,'jobType')\n",
    "    degree  = highest_salary_per_category(full_data,'degree')\n",
    "    \n",
    "    #create a dictionary of values and their order\n",
    "    scale_mapper_jobType = dict(zip(jobType.jobType,range(1,len(jobType.jobType)+1)))\n",
    "    scale_mapper_degree = dict(zip(degree.degree,range(1,len(degree.degree)+1)))\n",
    "    \n",
    "    \n",
    "    \n",
    "    #scale the columns ordinally\n",
    "    df['jobType'] = df['jobType'].replace(scale_mapper_jobType)\n",
    "    df['degree'] = df['degree'].replace(scale_mapper_degree)\n",
    "    return df"
   ]
  },
  {
   "cell_type": "code",
   "execution_count": 3,
   "id": "64ec423b",
   "metadata": {},
   "outputs": [
    {
     "data": {
      "text/plain": [
       "(999995, 9)"
      ]
     },
     "execution_count": 3,
     "metadata": {},
     "output_type": "execute_result"
    }
   ],
   "source": [
    "# Importing datasets\n",
    "train_feature_df = pd.read_csv(r'C:\\Users\\samue\\Downloads/data/train_features.csv')\n",
    "train_target_df = pd.read_csv(r'C:\\Users\\samue\\Downloads\\data/train_salaries.csv')\n",
    "test_feature_df = pd.read_csv(r'C:\\Users\\samue\\Downloads\\data/test_features.csv')\n",
    "\n",
    "\n",
    "#creating a full dataset with target variable\n",
    "full_data = train_feature_df.copy()\n",
    "full_data['salary'] = train_target_df['salary']\n",
    "\n",
    "#dropping observations where salary is zero\n",
    "zero_salary_rows = full_data[full_data['salary']==0].index\n",
    "full_data = full_data.drop(zero_salary_rows)\n",
    "full_data.shape"
   ]
  },
  {
   "cell_type": "code",
   "execution_count": 4,
   "id": "d74fc036",
   "metadata": {},
   "outputs": [
    {
     "data": {
      "image/png": "[encoded data removed]",
      "text/plain": [
       "<Figure size 432x288 with 1 Axes>"
      ]
     },
     "metadata": {
      "needs_background": "light"
     },
     "output_type": "display_data"
    }
   ],
   "source": [
    "#checking if company ID has any quantitative value\n",
    "full_data.reset_index(inplace=True,drop=True)\n",
    "full_data.groupby(['companyId'])['salary'].mean().plot(kind ='bar');"
   ]
  },
  {
   "cell_type": "markdown",
   "id": "8db20f36",
   "metadata": {},
   "source": [
    "companyId has 63 variables and each class has almost the equal mean.\n",
    "\n",
    "there is no real value added to the model so we remove the column. "
   ]
  },
  {
   "cell_type": "code",
   "execution_count": 5,
   "id": "03568435",
   "metadata": {
    "scrolled": true
   },
   "outputs": [
    {
     "name": "stdout",
     "output_type": "stream",
     "text": [
      "JobId is Unique\n",
      "Unique values in jobId: 999995 \n",
      "\n",
      "jobType : \n",
      " ['CFO' 'CEO' 'VICE_PRESIDENT' 'MANAGER' 'JUNIOR' 'JANITOR' 'CTO' 'SENIOR'] \n",
      " number of unique values: 8\n",
      "\n",
      "degree : \n",
      " ['MASTERS' 'HIGH_SCHOOL' 'DOCTORAL' 'BACHELORS' 'NONE'] \n",
      " number of unique values: 5\n",
      "\n",
      "major : \n",
      " ['MATH' 'NONE' 'PHYSICS' 'CHEMISTRY' 'COMPSCI' 'BIOLOGY' 'LITERATURE'\n",
      " 'BUSINESS' 'ENGINEERING'] \n",
      " number of unique values: 9\n",
      "\n",
      "industry : \n",
      " ['HEALTH' 'WEB' 'AUTO' 'FINANCE' 'EDUCATION' 'OIL' 'SERVICE'] \n",
      " number of unique values: 7\n",
      "\n"
     ]
    }
   ],
   "source": [
    "full_data.drop('companyId',axis = 1,inplace=True)\n",
    "unique_and_null_categorical(full_data)"
   ]
  },
  {
   "cell_type": "markdown",
   "id": "2573b4f3",
   "metadata": {},
   "source": [
    "### Splitting the data"
   ]
  },
  {
   "cell_type": "code",
   "execution_count": 6,
   "id": "b206a892",
   "metadata": {},
   "outputs": [],
   "source": [
    "x_train, x_val, y_train, y_val = train_test_split(full_data.drop(['salary'],axis = 1),full_data['salary'],test_size = 0.3, random_state= 157)"
   ]
  },
  {
   "cell_type": "markdown",
   "id": "a6963a19",
   "metadata": {},
   "source": [
    "### Baseline model"
   ]
  },
  {
   "cell_type": "code",
   "execution_count": 7,
   "id": "ae823021",
   "metadata": {},
   "outputs": [],
   "source": [
    "x_train.set_index('jobId',inplace = True)\n",
    "x_train_encoded = encode_and_bind(x_train)"
   ]
  },
  {
   "cell_type": "code",
   "execution_count": 8,
   "id": "5d2f460d",
   "metadata": {
    "scrolled": true
   },
   "outputs": [
    {
     "name": "stdout",
     "output_type": "stream",
     "text": [
      "384.36 mse with a standard deviation of 0.94 for training data\n",
      "384.54462245126416 for validation data\n"
     ]
    }
   ],
   "source": [
    "model = LinearRegression()\n",
    "scores = cross_val_score(model,x_train_encoded,y_train,scoring='neg_mean_squared_error')\n",
    "print(\"%0.2f mse with a standard deviation of %0.2f for training data\" % (abs(scores.mean()), scores.std()))\n",
    "\n",
    "x_val.set_index('jobId',inplace = True)\n",
    "x_val_encoded = encode_and_bind(x_val)\n",
    "\n",
    "model.fit(x_train_encoded,y_train)\n",
    "y_val_pred = model.predict(x_val_encoded)\n",
    "print(mean_squared_error(y_val,y_val_pred),'for validation data')"
   ]
  },
  {
   "cell_type": "markdown",
   "id": "744b722b",
   "metadata": {},
   "source": [
    "***\n",
    "**Baseline model gives us a MSE of 384 for both training and validation data**\n",
    "***\n",
    "To decrease the MSE further we select few models and try to tune them to achieve better MSE"
   ]
  },
  {
   "cell_type": "markdown",
   "id": "3aeac675",
   "metadata": {},
   "source": [
    "SGDRegressor, Neural Networks, GBRegressor, Support Vector Regressor"
   ]
  },
  {
   "cell_type": "markdown",
   "id": "6112520f",
   "metadata": {},
   "source": [
    "https://machinelearningmastery.com/automate-machine-learning-workflows-pipelines-python-scikit-learn/\n"
   ]
  },
  {
   "cell_type": "markdown",
   "id": "63ce217d",
   "metadata": {},
   "source": [
    "* Encode categorical variables with ordinal and one hot encoding\n",
    "* Apply PCA and check \n",
    "* feature scale numerical columns\n",
    "* Include and remove numerical columns to check if it has an effect"
   ]
  },
  {
   "cell_type": "markdown",
   "id": "bb751017",
   "metadata": {},
   "source": [
    "Scaling and non-scaling\n",
    "\n",
    "OneHotEncoding and Ordinal Coding\n",
    "\n",
    "trying combination of features\n",
    "\n",
    "PCA and No-PCA"
   ]
  },
  {
   "cell_type": "markdown",
   "id": "3c403776",
   "metadata": {},
   "source": [
    "1. Scale Data using scale_data - \"only scales yearsExperience and milesFromMetropolis\"\n",
    "2. ordinal scale jobType and degree using ordinal scale\n",
    "3. encode all variables with encode_and_bind"
   ]
  },
  {
   "cell_type": "code",
   "execution_count": 9,
   "id": "0a2284b8",
   "metadata": {},
   "outputs": [],
   "source": [
    "def train_model(model, feature_df, target_df, num_procs, mean_mse, cv_std):\n",
    "    #using 5 fold CV and measuring with MSE \n",
    "    neg_mse = cross_val_score(model, feature_df, target_df, cv=5, n_jobs=num_procs, scoring='neg_mean_squared_error')\n",
    "    #store the mean MSE of the model\n",
    "    mean_mse[model] = -1.0*np.mean(neg_mse)\n",
    "    cv_std[model] = np.std(neg_mse)\n",
    "def print_summary(model, mean_mse, cv_std):\n",
    "    print('\\nModel:\\n', model)\n",
    "    print('Average MSE:\\n', mean_mse[model])\n",
    "    print('Standard deviation during CV:\\n', cv_std[model])"
   ]
  },
  {
   "cell_type": "code",
   "execution_count": 10,
   "id": "0dbf7aca",
   "metadata": {},
   "outputs": [],
   "source": [
    "from sklearn.linear_model import SGDRegressor\n",
    "from sklearn.ensemble import GradientBoostingRegressor\n",
    "from sklearn.svm import SVR\n",
    "from sklearn.decomposition import PCA\n",
    "import numpy as np\n",
    "import matplotlib.pyplot as plt\n",
    "from sklearn.model_selection import GridSearchCV"
   ]
  },
  {
   "cell_type": "markdown",
   "id": "a312c1ea",
   "metadata": {},
   "source": [
    "### 1) SVR"
   ]
  },
  {
   "cell_type": "markdown",
   "id": "0a30fc70",
   "metadata": {},
   "source": [
    "#### No Scaling"
   ]
  },
  {
   "cell_type": "code",
   "execution_count": 11,
   "id": "3748aceb",
   "metadata": {},
   "outputs": [],
   "source": [
    "x_train_encoded = encode_and_bind(x_train)"
   ]
  },
  {
   "cell_type": "code",
   "execution_count": 12,
   "id": "43462a2f",
   "metadata": {},
   "outputs": [],
   "source": [
    "kernels = ['rbf','sigmoid','linear','poly']\n",
    "\n",
    "mse_kernel = []\n",
    "for i in kernels: \n",
    "    svr = SVR(kernel=i,max_iter=500)\n",
    "    svr.fit(x_train_encoded,y_train)\n",
    "    y_pred = svr.predict(x_train_encoded)\n",
    "    mse_kernel.append(mean_squared_error(y_train,y_pred))"
   ]
  },
  {
   "cell_type": "code",
   "execution_count": 13,
   "id": "c6472161",
   "metadata": {},
   "outputs": [],
   "source": [
    "mse_df = pd.DataFrame()\n",
    "mse_kernel = pd.DataFrame(mse_kernel)\n",
    "mse_df['kernel'] = kernels\n",
    "mse_df['mse'] = mse_kernel"
   ]
  },
  {
   "cell_type": "markdown",
   "id": "ea208a0d",
   "metadata": {},
   "source": [
    "#### Scaling"
   ]
  },
  {
   "cell_type": "code",
   "execution_count": 14,
   "id": "e87561ff",
   "metadata": {},
   "outputs": [],
   "source": [
    "x_train_sc,_ = scale_data(x_train)\n",
    "x_train_sc_enc = encode_and_bind(x_train_sc)"
   ]
  },
  {
   "cell_type": "code",
   "execution_count": 15,
   "id": "e8d6b776",
   "metadata": {},
   "outputs": [],
   "source": [
    "mse_scaled =[]\n",
    "for i in kernels: \n",
    "    svr = SVR(kernel=i,max_iter=500)\n",
    "    svr.fit(x_train_sc_enc,y_train)\n",
    "    y_pred = svr.predict(x_train_sc_enc)\n",
    "    mse_scaled.append(mean_squared_error(y_train,y_pred))"
   ]
  },
  {
   "cell_type": "code",
   "execution_count": 16,
   "id": "05f030fc",
   "metadata": {},
   "outputs": [],
   "source": [
    "mse_df['scaled_mse'] = pd.DataFrame(mse_scaled)"
   ]
  },
  {
   "cell_type": "markdown",
   "id": "e8f99ae2",
   "metadata": {},
   "source": [
    "#### Ordinal Scaled"
   ]
  },
  {
   "cell_type": "code",
   "execution_count": 17,
   "id": "58539f9e",
   "metadata": {},
   "outputs": [],
   "source": [
    "x_train_ord = ordinal_scale(x_train)\n",
    "x_train_ord,_ = scale_data(x_train_ord)\n",
    "x_train_ord_enc = encode_and_bind(x_train_ord)"
   ]
  },
  {
   "cell_type": "code",
   "execution_count": 18,
   "id": "a429cd63",
   "metadata": {},
   "outputs": [],
   "source": [
    "mse_ord =[]\n",
    "for i in kernels: \n",
    "    svr = SVR(kernel=i,max_iter=500)\n",
    "    svr.fit(x_train_ord_enc,y_train)\n",
    "    y_pred = svr.predict(x_train_ord_enc)\n",
    "    mse_ord.append(mean_squared_error(y_train,y_pred))\n",
    "\n",
    "mse_df['ordinal_mse'] = pd.DataFrame(mse_ord)"
   ]
  },
  {
   "cell_type": "code",
   "execution_count": 19,
   "id": "539f2b34",
   "metadata": {},
   "outputs": [
    {
     "data": {
      "image/png": "[encoded data removed]",
      "text/plain": [
       "<Figure size 432x288 with 1 Axes>"
      ]
     },
     "metadata": {
      "needs_background": "light"
     },
     "output_type": "display_data"
    }
   ],
   "source": [
    "x_axis = np.arange(len(kernels))\n",
    "\n",
    "# Multi bar Chart\n",
    "\n",
    "plt.bar(x_axis +0.20, mse_df['mse'], width=0.2, label = 'mse')\n",
    "plt.bar(x_axis +0.20*2, mse_df['scaled_mse'], width=0.2, label = 'scaled')\n",
    "plt.bar(x_axis +0.20*3, mse_df['ordinal_mse'], width=0.2, label = 'ordinally scaled')\n",
    "plt.xticks(x_axis,kernels)\n",
    "plt.legend()\n",
    "\n",
    "# Display\n",
    "\n",
    "plt.show()"
   ]
  },
  {
   "cell_type": "markdown",
   "id": "a6b05ab1",
   "metadata": {},
   "source": [
    "### 2) GBR"
   ]
  },
  {
   "cell_type": "code",
   "execution_count": 20,
   "id": "c737def2",
   "metadata": {
    "scrolled": true
   },
   "outputs": [
    {
     "name": "stdout",
     "output_type": "stream",
     "text": [
      "      Iter       Train Loss   Remaining Time \n",
      "         1        1330.0836            1.83m\n",
      "         2        1190.4314            1.72m\n",
      "         3        1074.8429            1.67m\n",
      "         4         979.6346            1.63m\n",
      "         5         899.2577            1.60m\n",
      "         6         832.0884            1.57m\n",
      "         7         773.4663            1.55m\n",
      "         8         723.8668            1.53m\n",
      "         9         681.8102            1.51m\n",
      "        10         645.3304            1.49m\n",
      "        20         450.8736            1.29m\n",
      "        30         391.1700            1.13m\n",
      "        40         369.5596           58.30s\n",
      "        50         360.2584           48.71s\n",
      "        60         355.7887           39.09s\n",
      "        70         352.9547           29.21s\n",
      "        80         351.2347           19.41s\n",
      "        90         350.1152            9.67s\n",
      "       100         349.1116            0.00s\n",
      "      Iter       Train Loss   Remaining Time \n",
      "         1        1330.1313            1.65m\n",
      "         2        1190.4917            1.62m\n",
      "         3        1075.4148            1.60m\n",
      "         4         979.4864            1.58m\n",
      "         5         899.3314            1.56m\n",
      "         6         832.1822            1.54m\n",
      "         7         774.9846            1.53m\n",
      "         8         725.1511            1.51m\n",
      "         9         683.1883            1.49m\n",
      "        10         647.2448            1.48m\n",
      "        20         450.6957            1.28m\n",
      "        30         391.5930            1.13m\n",
      "        40         369.8928           57.83s\n",
      "        50         360.7268           48.32s\n",
      "        60         355.9636           38.63s\n",
      "        70         353.0222           28.89s\n",
      "        80         351.5232           19.23s\n",
      "        90         350.2150            9.59s\n",
      "       100         349.3195            0.00s\n",
      "      Iter       Train Loss   Remaining Time \n",
      "         1        1325.1405            1.65m\n",
      "         2        1185.9394            1.62m\n",
      "         3        1071.1572            1.61m\n",
      "         4         976.4461            1.59m\n",
      "         5         896.0015            1.59m\n",
      "         6         829.2581            1.57m\n",
      "         7         771.2199            1.55m\n",
      "         8         722.1970            1.53m\n",
      "         9         679.7747            1.51m\n",
      "        10         643.2311            1.49m\n",
      "        20         449.0136            1.30m\n",
      "        30         390.5661            1.14m\n",
      "        40         369.1133           59.06s\n",
      "        50         359.6774           49.08s\n",
      "        60         355.2473           39.19s\n",
      "        70         352.1937           29.32s\n",
      "        80         350.4049           19.52s\n",
      "        90         349.2576            9.73s\n",
      "       100         348.2584            0.00s\n"
     ]
    }
   ],
   "source": [
    "gbr = GradientBoostingRegressor(max_depth=7,alpha=0.1,verbose=1)\n",
    "error = cross_val_score(gbr,x_train_encoded,y_train,cv =3, scoring='neg_mean_squared_error')"
   ]
  },
  {
   "cell_type": "code",
   "execution_count": 21,
   "id": "b913280e",
   "metadata": {},
   "outputs": [
    {
     "name": "stdout",
     "output_type": "stream",
     "text": [
      "The mean RMSE and MSE of CV 3 is 357.428158 and 18.905770 respectively\n"
     ]
    }
   ],
   "source": [
    "print('The mean RMSE and MSE of CV 3 is %f and %f respectively' %(abs(error.mean()),np.sqrt(abs(error.mean()))))"
   ]
  },
  {
   "cell_type": "code",
   "execution_count": 22,
   "id": "97e30f70",
   "metadata": {},
   "outputs": [
    {
     "name": "stdout",
     "output_type": "stream",
     "text": [
      "Fitting 3 folds for each of 9 candidates, totalling 27 fits\n"
     ]
    },
    {
     "data": {
      "text/plain": [
       "GridSearchCV(cv=3,\n",
       "             estimator=GradientBoostingRegressor(max_depth=8,\n",
       "                                                 max_features='sqrt',\n",
       "                                                 min_samples_leaf=50,\n",
       "                                                 min_samples_split=500,\n",
       "                                                 random_state=10,\n",
       "                                                 subsample=0.8),\n",
       "             n_jobs=4, param_grid={'n_estimators': range(20, 101, 10)},\n",
       "             scoring='neg_mean_squared_error', verbose=1)"
      ]
     },
     "execution_count": 22,
     "metadata": {},
     "output_type": "execute_result"
    }
   ],
   "source": [
    "param_test1 = {'n_estimators':range(20,101,10)}\n",
    "gsearch1 = GridSearchCV(estimator = GradientBoostingRegressor(learning_rate=0.1, min_samples_split=500,min_samples_leaf=50,max_depth=8,max_features='sqrt',subsample=0.8,random_state=10), param_grid = param_test1, scoring='neg_mean_squared_error',n_jobs=4, cv=3, verbose=1)\n",
    "gsearch1.fit(x_train_encoded,y_train)"
   ]
  },
  {
   "cell_type": "code",
   "execution_count": 23,
   "id": "b65f8e5a",
   "metadata": {},
   "outputs": [
    {
     "data": {
      "text/plain": [
       "({'mean_fit_time': array([918.76445746, 541.22695454,  19.51901269,  28.77073272,\n",
       "          43.26293818,  43.15917754,  47.38599499,  53.22251264,\n",
       "          45.86761427]),\n",
       "  'std_fit_time': array([8.77983818e-02, 4.28172941e+02, 1.08515071e+00, 3.23433453e+00,\n",
       "         1.83479560e+00, 1.87323783e+00, 1.17939908e-01, 1.77298286e-01,\n",
       "         5.44905033e+00]),\n",
       "  'mean_score_time': array([0.44800091, 0.42000524, 0.52399127, 0.80433369, 0.78431241,\n",
       "         0.88466668, 0.99534218, 1.11203051, 0.94600137]),\n",
       "  'std_score_time': array([0.02040967, 0.01667588, 0.05314261, 0.06537099, 0.00702393,\n",
       "         0.0110348 , 0.00046948, 0.03500757, 0.07579076]),\n",
       "  'param_n_estimators': masked_array(data=[20, 30, 40, 50, 60, 70, 80, 90, 100],\n",
       "               mask=[False, False, False, False, False, False, False, False,\n",
       "                     False],\n",
       "         fill_value='?',\n",
       "              dtype=object),\n",
       "  'params': [{'n_estimators': 20},\n",
       "   {'n_estimators': 30},\n",
       "   {'n_estimators': 40},\n",
       "   {'n_estimators': 50},\n",
       "   {'n_estimators': 60},\n",
       "   {'n_estimators': 70},\n",
       "   {'n_estimators': 80},\n",
       "   {'n_estimators': 90},\n",
       "   {'n_estimators': 100}],\n",
       "  'split0_test_score': array([-472.4061585 , -402.39662699, -379.54433409, -369.94202478,\n",
       "         -365.31066821, -362.98272082, -361.52739118, -360.41883909,\n",
       "         -359.54913741]),\n",
       "  'split1_test_score': array([-473.51415418, -401.87794499, -378.25743179, -369.09951179,\n",
       "         -364.4102282 , -362.01244238, -360.51716463, -359.46674967,\n",
       "         -358.8511878 ]),\n",
       "  'split2_test_score': array([-475.80899776, -406.16048555, -382.69799638, -372.55000456,\n",
       "         -367.00687351, -364.37758463, -362.76788942, -361.52428151,\n",
       "         -360.84882861]),\n",
       "  'mean_test_score': array([-473.90977015, -403.47835251, -380.16658742, -370.53051371,\n",
       "         -365.57592331, -363.12424927, -361.60414841, -360.46995676,\n",
       "         -359.74971794]),\n",
       "  'std_test_score': array([1.41708921, 1.9083389 , 1.86548526, 1.46883503, 1.07654135,\n",
       "         0.97073759, 0.92045615, 0.8407612 , 0.82777478]),\n",
       "  'rank_test_score': array([9, 8, 7, 6, 5, 4, 3, 2, 1])},\n",
       " {'n_estimators': 100},\n",
       " -359.7497179403251)"
      ]
     },
     "execution_count": 23,
     "metadata": {},
     "output_type": "execute_result"
    }
   ],
   "source": [
    "gsearch1.cv_results_, gsearch1.best_params_, gsearch1.best_score_"
   ]
  },
  {
   "cell_type": "code",
   "execution_count": 24,
   "id": "9ca0add4",
   "metadata": {},
   "outputs": [
    {
     "name": "stdout",
     "output_type": "stream",
     "text": [
      "Fitting 3 folds for each of 30 candidates, totalling 90 fits\n"
     ]
    },
    {
     "data": {
      "text/plain": [
       "({'mean_fit_time': array([22.31935   , 22.00164302, 21.88097954, 21.88866003, 21.9633309 ,\n",
       "         29.29934176, 29.01033084, 28.91900762, 28.99998633, 28.69765902,\n",
       "         35.70966538, 35.64866551, 36.17366624, 35.7346681 , 34.94897127,\n",
       "         40.78329341, 40.18933058, 39.89666581, 39.7479492 , 39.55733124,\n",
       "         45.36567108, 44.45766838, 43.9486661 , 44.18132933, 43.07599489,\n",
       "         48.89336594, 47.30899779, 46.6650273 , 46.18566362, 36.43230351]),\n",
       "  'std_fit_time': array([0.03753031, 0.28879746, 0.10602336, 0.03168393, 0.05771856,\n",
       "         0.24974321, 0.17447431, 0.11527078, 0.05548701, 0.28698664,\n",
       "         0.11651449, 0.31444935, 0.08546489, 0.06638172, 0.29440884,\n",
       "         0.25472734, 0.08208568, 0.05217117, 0.13296994, 0.05618391,\n",
       "         0.23387195, 0.10896268, 0.11721301, 0.33468278, 0.29362524,\n",
       "         0.43952202, 0.14583766, 0.05686913, 0.03805368, 4.64745979]),\n",
       "  'mean_score_time': array([0.68365153, 0.70900289, 0.73335894, 0.77433578, 0.68266948,\n",
       "         0.81365856, 0.8016696 , 0.77732849, 0.79833929, 0.77569095,\n",
       "         0.92966636, 0.94733127, 0.95002842, 0.9253281 , 0.89799897,\n",
       "         1.17433302, 1.14733036, 1.11966523, 1.10733652, 1.10099864,\n",
       "         1.45101468, 1.36832563, 1.3493313 , 1.3320032 , 1.30933038,\n",
       "         1.6919566 , 1.58166655, 1.52163601, 1.44966952, 1.23100162]),\n",
       "  'std_score_time': array([0.05650628, 0.05162335, 0.08057313, 0.02887438, 0.05708865,\n",
       "         0.05350072, 0.08336533, 0.01567935, 0.02641785, 0.04704477,\n",
       "         0.01007797, 0.01352475, 0.02625369, 0.02671702, 0.01098718,\n",
       "         0.00988126, 0.01808163, 0.01429625, 0.00984279, 0.00215947,\n",
       "         0.00574673, 0.01376362, 0.02375777, 0.03137693, 0.02455106,\n",
       "         0.03256807, 0.0104005 , 0.01572634, 0.02304008, 0.06394906]),\n",
       "  'param_max_depth': masked_array(data=[5, 5, 5, 5, 5, 7, 7, 7, 7, 7, 9, 9, 9, 9, 9, 11, 11,\n",
       "                     11, 11, 11, 13, 13, 13, 13, 13, 15, 15, 15, 15, 15],\n",
       "               mask=[False, False, False, False, False, False, False, False,\n",
       "                     False, False, False, False, False, False, False, False,\n",
       "                     False, False, False, False, False, False, False, False,\n",
       "                     False, False, False, False, False, False],\n",
       "         fill_value='?',\n",
       "              dtype=object),\n",
       "  'param_min_samples_split': masked_array(data=[200, 400, 600, 800, 1000, 200, 400, 600, 800, 1000,\n",
       "                     200, 400, 600, 800, 1000, 200, 400, 600, 800, 1000,\n",
       "                     200, 400, 600, 800, 1000, 200, 400, 600, 800, 1000],\n",
       "               mask=[False, False, False, False, False, False, False, False,\n",
       "                     False, False, False, False, False, False, False, False,\n",
       "                     False, False, False, False, False, False, False, False,\n",
       "                     False, False, False, False, False, False],\n",
       "         fill_value='?',\n",
       "              dtype=object),\n",
       "  'params': [{'max_depth': 5, 'min_samples_split': 200},\n",
       "   {'max_depth': 5, 'min_samples_split': 400},\n",
       "   {'max_depth': 5, 'min_samples_split': 600},\n",
       "   {'max_depth': 5, 'min_samples_split': 800},\n",
       "   {'max_depth': 5, 'min_samples_split': 1000},\n",
       "   {'max_depth': 7, 'min_samples_split': 200},\n",
       "   {'max_depth': 7, 'min_samples_split': 400},\n",
       "   {'max_depth': 7, 'min_samples_split': 600},\n",
       "   {'max_depth': 7, 'min_samples_split': 800},\n",
       "   {'max_depth': 7, 'min_samples_split': 1000},\n",
       "   {'max_depth': 9, 'min_samples_split': 200},\n",
       "   {'max_depth': 9, 'min_samples_split': 400},\n",
       "   {'max_depth': 9, 'min_samples_split': 600},\n",
       "   {'max_depth': 9, 'min_samples_split': 800},\n",
       "   {'max_depth': 9, 'min_samples_split': 1000},\n",
       "   {'max_depth': 11, 'min_samples_split': 200},\n",
       "   {'max_depth': 11, 'min_samples_split': 400},\n",
       "   {'max_depth': 11, 'min_samples_split': 600},\n",
       "   {'max_depth': 11, 'min_samples_split': 800},\n",
       "   {'max_depth': 11, 'min_samples_split': 1000},\n",
       "   {'max_depth': 13, 'min_samples_split': 200},\n",
       "   {'max_depth': 13, 'min_samples_split': 400},\n",
       "   {'max_depth': 13, 'min_samples_split': 600},\n",
       "   {'max_depth': 13, 'min_samples_split': 800},\n",
       "   {'max_depth': 13, 'min_samples_split': 1000},\n",
       "   {'max_depth': 15, 'min_samples_split': 200},\n",
       "   {'max_depth': 15, 'min_samples_split': 400},\n",
       "   {'max_depth': 15, 'min_samples_split': 600},\n",
       "   {'max_depth': 15, 'min_samples_split': 800},\n",
       "   {'max_depth': 15, 'min_samples_split': 1000}],\n",
       "  'split0_test_score': array([-374.89427932, -375.07694545, -374.60208946, -374.30383499,\n",
       "         -374.58111151, -363.77008448, -363.45643995, -363.05035912,\n",
       "         -363.86579422, -364.14847704, -359.93827047, -360.25468716,\n",
       "         -359.84086999, -360.14745251, -360.64844375, -359.7275822 ,\n",
       "         -359.5724264 , -359.13230429, -359.66727921, -359.43295412,\n",
       "         -360.66720056, -359.3170275 , -358.84358373, -358.83131577,\n",
       "         -358.71316866, -362.17163669, -360.36332497, -359.42077642,\n",
       "         -359.05908182, -358.94680692]),\n",
       "  'split1_test_score': array([-372.73235088, -373.41790338, -372.2364806 , -373.28872315,\n",
       "         -374.53162047, -362.85152723, -363.38523186, -363.53466762,\n",
       "         -362.52657114, -363.95210341, -359.71434963, -359.91561568,\n",
       "         -359.64688556, -359.97786441, -360.1601974 , -359.15444852,\n",
       "         -358.55528073, -358.51350506, -358.63479392, -358.67380638,\n",
       "         -360.16983147, -358.99688519, -358.41634588, -358.50216704,\n",
       "         -358.43125153, -361.83846303, -359.82414929, -358.93182157,\n",
       "         -358.43492195, -358.30294683]),\n",
       "  'split2_test_score': array([-376.37879381, -375.91703488, -374.63076908, -376.25154651,\n",
       "         -375.57155349, -365.52847446, -366.04046906, -365.17131464,\n",
       "         -365.97824258, -366.1846977 , -361.83930289, -361.8753005 ,\n",
       "         -361.98352593, -361.6722501 , -361.63413813, -360.89917011,\n",
       "         -360.58987297, -360.46445233, -360.60953777, -360.44262139,\n",
       "         -362.19876513, -361.09136863, -360.77782093, -360.15717917,\n",
       "         -360.61779875, -363.7875743 , -361.65524483, -361.01673747,\n",
       "         -360.49417365, -360.43578163]),\n",
       "  'mean_test_score': array([-374.66847467, -374.80396124, -373.82311304, -374.61470155,\n",
       "         -374.89476182, -364.05002872, -364.29404696, -363.91878046,\n",
       "         -364.12353598, -364.76175938, -360.49730766, -360.68186778,\n",
       "         -360.49042716, -360.59918901, -360.81425976, -359.92706694,\n",
       "         -359.5725267 , -359.37008723, -359.63720364, -359.51646063,\n",
       "         -361.01193239, -359.80176044, -359.34591685, -359.16355399,\n",
       "         -359.25407298, -362.59922467, -360.61423969, -359.78977849,\n",
       "         -359.32939247, -359.22851179]),\n",
       "  'std_test_score': array([1.49719233, 1.03836565, 1.12197966, 1.229379  , 0.4789903 ,\n",
       "         1.11064191, 1.23524904, 0.90747639, 1.4208758 , 1.00935813,\n",
       "         0.95332699, 0.85516221, 1.05874625, 0.76192087, 0.61305059,\n",
       "         0.72611247, 0.83061881, 0.81402471, 0.80646625, 0.72452589,\n",
       "         0.86343229, 0.92120926, 1.02742235, 0.71533348, 0.97114376,\n",
       "         0.85122746, 0.76830826, 0.89025857, 0.86214085, 0.8932205 ]),\n",
       "  'rank_test_score': array([28, 29, 26, 27, 30, 22, 24, 21, 23, 25, 14, 17, 13, 15, 18, 12,  8,\n",
       "          6,  9,  7, 19, 11,  5,  1,  3, 20, 16, 10,  4,  2])},\n",
       " {'max_depth': 13, 'min_samples_split': 800},\n",
       " -359.1635539934444)"
      ]
     },
     "execution_count": 24,
     "metadata": {},
     "output_type": "execute_result"
    }
   ],
   "source": [
    "param_test2 = {'max_depth':range(5,16,2), 'min_samples_split':range(200,1001,200)}\n",
    "gsearch2 = GridSearchCV(estimator = GradientBoostingRegressor(learning_rate=0.1, n_estimators=80, max_features='sqrt', subsample=0.8, random_state=10), \n",
    "param_grid = param_test2, scoring='neg_mean_squared_error',n_jobs=4,verbose=2, cv=3)\n",
    "gsearch2.fit(x_train_encoded,y_train)\n",
    "gsearch2.cv_results_, gsearch2.best_params_, gsearch2.best_score_"
   ]
  },
  {
   "cell_type": "code",
   "execution_count": 25,
   "id": "b1bb3f4f",
   "metadata": {},
   "outputs": [
    {
     "data": {
      "text/plain": [
       "({'mean_fit_time': array([28.55966123, 28.45068598, 28.21330468, 28.06566175, 28.33200336,\n",
       "         28.16433207, 28.35397696, 28.24636412, 28.40064669, 28.18533548,\n",
       "         28.3750031 , 28.36933613, 28.7163322 , 29.01033584, 29.37398664,\n",
       "         29.35432704, 29.45034027, 28.56168421, 28.45967118, 28.56232897,\n",
       "         28.74399344, 28.33666571, 28.43299953, 28.33362889, 28.53100363,\n",
       "         28.66100105, 28.64866265, 28.47665763, 29.84000238, 21.95266994]),\n",
       "  'std_fit_time': array([0.09862938, 0.06240407, 0.12739847, 0.04768182, 0.06788698,\n",
       "         0.15098822, 0.05788473, 0.12986317, 0.06057665, 0.13186965,\n",
       "         0.13626316, 0.08344914, 0.18942453, 0.35473996, 0.24439158,\n",
       "         0.09389809, 0.09407214, 0.57806818, 0.10510708, 0.07603446,\n",
       "         0.08184932, 0.12514049, 0.0856664 , 0.04325471, 0.14659013,\n",
       "         0.08333345, 0.08092498, 0.1546684 , 0.05649373, 5.33267294]),\n",
       "  'mean_score_time': array([0.79899891, 0.80430913, 0.83335908, 0.8279988 , 0.81699951,\n",
       "         0.81933784, 0.83999268, 0.85730036, 0.80365539, 0.80700342,\n",
       "         0.81667034, 0.8646698 , 0.79432774, 0.82066139, 0.83332141,\n",
       "         0.83900285, 0.81066322, 0.80366039, 0.80033342, 0.85197671,\n",
       "         0.80033239, 0.77732905, 0.75332975, 0.83799911, 0.77233338,\n",
       "         0.82199915, 0.81566747, 0.8136692 , 0.78833787, 0.63466366]),\n",
       "  'std_score_time': array([0.03555931, 0.0404792 , 0.05654683, 0.04536819, 0.0547719 ,\n",
       "         0.05109462, 0.06471542, 0.01076038, 0.03158949, 0.04495864,\n",
       "         0.05851505, 0.01592483, 0.0307278 , 0.06438958, 0.05914776,\n",
       "         0.00647788, 0.04125198, 0.04228616, 0.031896  , 0.02577901,\n",
       "         0.04643432, 0.04375544, 0.01132462, 0.02901727, 0.0226983 ,\n",
       "         0.04739141, 0.04080652, 0.0275225 , 0.05231689, 0.05061471]),\n",
       "  'param_min_samples_leaf': masked_array(data=[30, 30, 30, 30, 30, 30, 40, 40, 40, 40, 40, 40, 50, 50,\n",
       "                     50, 50, 50, 50, 60, 60, 60, 60, 60, 60, 70, 70, 70, 70,\n",
       "                     70, 70],\n",
       "               mask=[False, False, False, False, False, False, False, False,\n",
       "                     False, False, False, False, False, False, False, False,\n",
       "                     False, False, False, False, False, False, False, False,\n",
       "                     False, False, False, False, False, False],\n",
       "         fill_value='?',\n",
       "              dtype=object),\n",
       "  'param_min_samples_split': masked_array(data=[1000, 1200, 1400, 1600, 1800, 2000, 1000, 1200, 1400,\n",
       "                     1600, 1800, 2000, 1000, 1200, 1400, 1600, 1800, 2000,\n",
       "                     1000, 1200, 1400, 1600, 1800, 2000, 1000, 1200, 1400,\n",
       "                     1600, 1800, 2000],\n",
       "               mask=[False, False, False, False, False, False, False, False,\n",
       "                     False, False, False, False, False, False, False, False,\n",
       "                     False, False, False, False, False, False, False, False,\n",
       "                     False, False, False, False, False, False],\n",
       "         fill_value='?',\n",
       "              dtype=object),\n",
       "  'params': [{'min_samples_leaf': 30, 'min_samples_split': 1000},\n",
       "   {'min_samples_leaf': 30, 'min_samples_split': 1200},\n",
       "   {'min_samples_leaf': 30, 'min_samples_split': 1400},\n",
       "   {'min_samples_leaf': 30, 'min_samples_split': 1600},\n",
       "   {'min_samples_leaf': 30, 'min_samples_split': 1800},\n",
       "   {'min_samples_leaf': 30, 'min_samples_split': 2000},\n",
       "   {'min_samples_leaf': 40, 'min_samples_split': 1000},\n",
       "   {'min_samples_leaf': 40, 'min_samples_split': 1200},\n",
       "   {'min_samples_leaf': 40, 'min_samples_split': 1400},\n",
       "   {'min_samples_leaf': 40, 'min_samples_split': 1600},\n",
       "   {'min_samples_leaf': 40, 'min_samples_split': 1800},\n",
       "   {'min_samples_leaf': 40, 'min_samples_split': 2000},\n",
       "   {'min_samples_leaf': 50, 'min_samples_split': 1000},\n",
       "   {'min_samples_leaf': 50, 'min_samples_split': 1200},\n",
       "   {'min_samples_leaf': 50, 'min_samples_split': 1400},\n",
       "   {'min_samples_leaf': 50, 'min_samples_split': 1600},\n",
       "   {'min_samples_leaf': 50, 'min_samples_split': 1800},\n",
       "   {'min_samples_leaf': 50, 'min_samples_split': 2000},\n",
       "   {'min_samples_leaf': 60, 'min_samples_split': 1000},\n",
       "   {'min_samples_leaf': 60, 'min_samples_split': 1200},\n",
       "   {'min_samples_leaf': 60, 'min_samples_split': 1400},\n",
       "   {'min_samples_leaf': 60, 'min_samples_split': 1600},\n",
       "   {'min_samples_leaf': 60, 'min_samples_split': 1800},\n",
       "   {'min_samples_leaf': 60, 'min_samples_split': 2000},\n",
       "   {'min_samples_leaf': 70, 'min_samples_split': 1000},\n",
       "   {'min_samples_leaf': 70, 'min_samples_split': 1200},\n",
       "   {'min_samples_leaf': 70, 'min_samples_split': 1400},\n",
       "   {'min_samples_leaf': 70, 'min_samples_split': 1600},\n",
       "   {'min_samples_leaf': 70, 'min_samples_split': 1800},\n",
       "   {'min_samples_leaf': 70, 'min_samples_split': 2000}],\n",
       "  'split0_test_score': array([-364.14810494, -364.21453272, -364.131109  , -364.19176925,\n",
       "         -363.9023036 , -364.47742306, -364.32299682, -364.09114564,\n",
       "         -364.12958336, -364.19289449, -363.9023036 , -364.47742306,\n",
       "         -364.09308983, -363.77449354, -364.12958336, -364.19215184,\n",
       "         -363.85238806, -364.47742306, -364.04225472, -363.64571402,\n",
       "         -364.17828689, -364.19215184, -363.85238806, -364.47742306,\n",
       "         -364.02046009, -364.5819436 , -364.17721671, -364.44917977,\n",
       "         -363.87105437, -364.47703502]),\n",
       "  'split1_test_score': array([-363.85051871, -363.77127327, -363.30353385, -363.90577302,\n",
       "         -364.3718933 , -363.56956318, -363.84843881, -363.77371848,\n",
       "         -363.3864318 , -363.90446759, -364.2888858 , -363.56956318,\n",
       "         -363.35978326, -363.57573464, -363.27081684, -363.89166123,\n",
       "         -364.2846038 , -363.56990841, -363.40652674, -363.53996456,\n",
       "         -363.27136522, -363.86529447, -364.36723348, -363.56990841,\n",
       "         -363.84640113, -363.94558847, -363.27152896, -364.03273199,\n",
       "         -364.41834182, -363.59842535]),\n",
       "  'split2_test_score': array([-365.89177883, -365.64458344, -365.78188872, -366.02783243,\n",
       "         -365.19588806, -366.1658656 , -366.00788483, -365.64477718,\n",
       "         -365.78427418, -366.02785977, -365.19588806, -366.1658656 ,\n",
       "         -366.55011713, -365.5869944 , -365.77306459, -366.02658903,\n",
       "         -365.07535252, -366.1658656 , -366.69418084, -365.68029933,\n",
       "         -366.15488648, -365.56620302, -365.0752952 , -366.1656335 ,\n",
       "         -365.6227758 , -365.93362789, -366.15597255, -366.02994222,\n",
       "         -365.07623884, -366.1656335 ]),\n",
       "  'mean_test_score': array([-364.63013416, -364.54346314, -364.40551052, -364.70845823,\n",
       "         -364.49002832, -364.73761728, -364.72644015, -364.50321376,\n",
       "         -364.43342978, -364.70840728, -364.46235915, -364.73761728,\n",
       "         -364.66766341, -364.31240752, -364.39115493, -364.70346737,\n",
       "         -364.40411479, -364.73773236, -364.71432077, -364.2886593 ,\n",
       "         -364.5348462 , -364.54121644, -364.43163891, -364.73765499,\n",
       "         -364.49654567, -364.82038665, -364.53490607, -364.83728466,\n",
       "         -364.45521168, -364.74703129]),\n",
       "  'std_test_score': array([0.90035173, 0.7993619 , 1.03022097, 0.94021617, 0.53466943,\n",
       "         1.07578571, 0.92659832, 0.81754318, 1.00221555, 0.94039484,\n",
       "         0.5421623 , 1.07578571, 1.36434567, 0.90491438, 1.03814762,\n",
       "         0.94359661, 0.50637448, 1.07566077, 1.42382629, 0.98498467,\n",
       "         1.20388943, 0.73695638, 0.50132259, 1.07555805, 0.79952896,\n",
       "         0.8289417 , 1.20442516, 0.86030275, 0.49270474, 1.06530525]),\n",
       "  'rank_test_score': array([17, 16,  5, 21, 10, 24, 23, 12,  7, 20,  9, 24, 18,  2,  3, 19,  4,\n",
       "         27, 22,  1, 13, 15,  6, 26, 11, 29, 14, 30,  8, 28])},\n",
       " {'min_samples_leaf': 60, 'min_samples_split': 1200},\n",
       " -364.2886592992395)"
      ]
     },
     "execution_count": 25,
     "metadata": {},
     "output_type": "execute_result"
    }
   ],
   "source": [
    "param_test3 = {'min_samples_split':range(1000,2100,200), 'min_samples_leaf':range(30,71,10)}\n",
    "gsearch3 = GridSearchCV(estimator = GradientBoostingRegressor(learning_rate=0.1, n_estimators=80,max_depth=7,max_features='sqrt', subsample=0.8, random_state=10), \n",
    "param_grid = param_test3, scoring='neg_mean_squared_error',n_jobs=4, cv=3)\n",
    "gsearch3.fit(x_train_encoded,y_train)\n",
    "gsearch3.cv_results_, gsearch3.best_params_, gsearch3.best_score_"
   ]
  },
  {
   "cell_type": "code",
   "execution_count": 26,
   "id": "104cf1ab",
   "metadata": {},
   "outputs": [
    {
     "name": "stdout",
     "output_type": "stream",
     "text": [
      "Fitting 3 folds for each of 7 candidates, totalling 21 fits\n"
     ]
    },
    {
     "data": {
      "text/plain": [
       "({'mean_fit_time': array([49.43066104, 58.6639986 , 67.52532768, 76.75932964, 85.74632939,\n",
       "         93.58732375, 85.59933472]),\n",
       "  'std_fit_time': array([ 0.12213569,  0.16788033,  0.46226305,  0.30507404,  0.41634339,\n",
       "          0.43835055, 14.30349827]),\n",
       "  'mean_score_time': array([1.17967065, 1.13666511, 1.12966951, 1.1089983 , 1.12198869,\n",
       "         1.10266534, 0.94666473]),\n",
       "  'std_score_time': array([0.05865548, 0.02390865, 0.01087035, 0.02384559, 0.01818502,\n",
       "         0.00758533, 0.05246502]),\n",
       "  'param_max_features': masked_array(data=[7, 9, 11, 13, 15, 17, 19],\n",
       "               mask=[False, False, False, False, False, False, False],\n",
       "         fill_value='?',\n",
       "              dtype=object),\n",
       "  'params': [{'max_features': 7},\n",
       "   {'max_features': 9},\n",
       "   {'max_features': 11},\n",
       "   {'max_features': 13},\n",
       "   {'max_features': 15},\n",
       "   {'max_features': 17},\n",
       "   {'max_features': 19}],\n",
       "  'split0_test_score': array([-358.58214853, -358.11369011, -357.77948066, -357.63106355,\n",
       "         -357.7804679 , -357.59578338, -357.82939699]),\n",
       "  'split1_test_score': array([-357.81764105, -357.50985605, -357.36173783, -357.45187726,\n",
       "         -357.30116069, -357.0062932 , -357.38288851]),\n",
       "  'split2_test_score': array([-359.92438404, -359.64771416, -359.22667153, -359.41578309,\n",
       "         -359.27684143, -359.25271348, -359.40633731]),\n",
       "  'mean_test_score': array([-358.77472454, -358.42375344, -358.12263001, -358.1662413 ,\n",
       "         -358.11949001, -357.95159669, -358.2062076 ]),\n",
       "  'std_test_score': array([0.87078725, 0.89989398, 0.79908616, 0.88658255, 0.84143947,\n",
       "         0.95098312, 0.86797694]),\n",
       "  'rank_test_score': array([7, 6, 3, 4, 2, 1, 5])},\n",
       " {'max_features': 17},\n",
       " -357.95159668966653)"
      ]
     },
     "execution_count": 26,
     "metadata": {},
     "output_type": "execute_result"
    }
   ],
   "source": [
    "param_test4 = {'max_features':range(7,20,2)}\n",
    "gsearch4 = GridSearchCV(estimator = GradientBoostingRegressor(learning_rate=0.1, n_estimators=80,max_depth=11, min_samples_split=800, min_samples_leaf=60, subsample=0.8, random_state=10),\n",
    "param_grid = param_test4, scoring='neg_mean_squared_error',n_jobs=4, cv=3,verbose=3)\n",
    "gsearch4.fit(x_train_encoded,y_train)\n",
    "gsearch4.cv_results_,gsearch4.best_params_,gsearch4.best_score_"
   ]
  },
  {
   "cell_type": "markdown",
   "id": "f9f80f0c",
   "metadata": {},
   "source": [
    "The Best parameters so far obtained are: \n",
    "1) min_samples_split = 800\n",
    "\n",
    "2) min_samples_leaf = 60\n",
    "\n",
    "3) max_depth = 11\n",
    "\n",
    "4) max_features = 13"
   ]
  },
  {
   "cell_type": "code",
   "execution_count": 27,
   "id": "89bed4c6",
   "metadata": {},
   "outputs": [
    {
     "name": "stdout",
     "output_type": "stream",
     "text": [
      "Fitting 3 folds for each of 6 candidates, totalling 18 fits\n"
     ]
    },
    {
     "data": {
      "text/plain": [
       "({'mean_fit_time': array([59.53966371, 67.57866335, 71.65499679, 75.91600092, 80.53766886,\n",
       "         66.33499813]),\n",
       "  'std_fit_time': array([ 0.11632321,  0.15461437,  0.26752845,  0.20417535,  0.15435101,\n",
       "         11.39332652]),\n",
       "  'mean_score_time': array([1.09733526, 1.08933934, 1.0896697 , 1.07669512, 1.11832905,\n",
       "         0.94967024]),\n",
       "  'std_score_time': array([0.02661502, 0.01976643, 0.0037686 , 0.00522694, 0.00805681,\n",
       "         0.07808525]),\n",
       "  'param_subsample': masked_array(data=[0.6, 0.7, 0.75, 0.8, 0.85, 0.9],\n",
       "               mask=[False, False, False, False, False, False],\n",
       "         fill_value='?',\n",
       "              dtype=object),\n",
       "  'params': [{'subsample': 0.6},\n",
       "   {'subsample': 0.7},\n",
       "   {'subsample': 0.75},\n",
       "   {'subsample': 0.8},\n",
       "   {'subsample': 0.85},\n",
       "   {'subsample': 0.9}],\n",
       "  'split0_test_score': array([-357.83325123, -357.68915306, -357.73886256, -357.63106355,\n",
       "         -357.7323972 , -357.63466448]),\n",
       "  'split1_test_score': array([-357.38303289, -357.28080745, -357.18800619, -357.45187726,\n",
       "         -357.16679535, -357.27907563]),\n",
       "  'split2_test_score': array([-359.30725823, -359.17530225, -359.41689415, -359.41578309,\n",
       "         -359.47610552, -359.16727566]),\n",
       "  'mean_test_score': array([-358.17451412, -358.04842092, -358.11458763, -358.1662413 ,\n",
       "         -358.12509936, -358.02700526]),\n",
       "  'std_test_score': array([0.82178913, 0.81407726, 0.94793192, 0.88658255, 0.98281555,\n",
       "         0.8192571 ]),\n",
       "  'rank_test_score': array([6, 2, 3, 5, 4, 1])},\n",
       " {'subsample': 0.9},\n",
       " -358.02700525991395)"
      ]
     },
     "execution_count": 27,
     "metadata": {},
     "output_type": "execute_result"
    }
   ],
   "source": [
    "param_test5 = {'subsample':[0.6,0.7,0.75,0.8,0.85,0.9]}\n",
    "gsearch5 = GridSearchCV(estimator = GradientBoostingRegressor(learning_rate=0.1, n_estimators=80,max_depth=11,min_samples_split=800, min_samples_leaf=60, subsample=0.8, random_state=10,max_features=13),\n",
    "param_grid = param_test5, scoring='neg_mean_squared_error',n_jobs=4, cv=3,verbose=4)\n",
    "gsearch5.fit(x_train_encoded,y_train)\n",
    "gsearch5.cv_results_, gsearch5.best_params_, gsearch5.best_score_"
   ]
  },
  {
   "cell_type": "code",
   "execution_count": 28,
   "id": "613a32c1",
   "metadata": {},
   "outputs": [
    {
     "name": "stdout",
     "output_type": "stream",
     "text": [
      "348.36236889576367\n"
     ]
    }
   ],
   "source": [
    "gbm_tuned_1 = GradientBoostingRegressor(learning_rate=0.05, n_estimators=160,max_depth=11, min_samples_split=800,min_samples_leaf=60, subsample=0.6, random_state=10, max_features=13)\n",
    "gbm_tuned_1.fit(x_train_encoded, y_train)\n",
    "\n",
    "#Predict training set:\n",
    "dtrain_predictions = gbm_tuned_1.predict(x_train_encoded)\n",
    "#dtrain_predprob = gbm_tuned_1.predict_proba(x_train_encoded)[:,1]\n",
    "print(mean_squared_error(y_train,dtrain_predictions))\n"
   ]
  },
  {
   "cell_type": "code",
   "execution_count": 29,
   "id": "f228eb2e",
   "metadata": {},
   "outputs": [
    {
     "name": "stdout",
     "output_type": "stream",
     "text": [
      "335.4503335574303\n"
     ]
    }
   ],
   "source": [
    "gbm_tuned_2 = GradientBoostingRegressor(learning_rate=0.05, n_estimators=800,max_depth=11, min_samples_split=800,min_samples_leaf=60, subsample=0.6, random_state=10, max_features=13)\n",
    "gbm_tuned_2.fit(x_train_encoded, y_train)\n",
    "\n",
    "#Predict training set:\n",
    "dtrain_predictions = gbm_tuned_2.predict(x_train_encoded)\n",
    "#dtrain_predprob = gbm_tuned_1.predict_proba(x_train_encoded)[:,1]\n",
    "print(mean_squared_error(y_train,dtrain_predictions))\n"
   ]
  },
  {
   "cell_type": "code",
   "execution_count": 33,
   "id": "3ab7cc6f",
   "metadata": {},
   "outputs": [],
   "source": [
    "gbm_tuned_3 = GradientBoostingRegressor(learning_rate=0.05, n_estimators=800,max_depth=11, min_samples_split=800,min_samples_leaf=60, subsample=0.6, random_state=10, max_features=13)\n",
    "error_1 = cross_val_score(gbm_tuned_3,x_train_encoded,y_train,cv =3, scoring='neg_mean_squared_error')"
   ]
  },
  {
   "cell_type": "code",
   "execution_count": 34,
   "id": "a44665d4",
   "metadata": {},
   "outputs": [],
   "source": [
    "gbm_tuned_4 = GradientBoostingRegressor(learning_rate=0.05, n_estimators=160,max_depth=11, min_samples_split=800,min_samples_leaf=60, subsample=0.6, random_state=10, max_features=13)\n",
    "error_2 = cross_val_score(gbm_tuned_4,x_train_encoded,y_train,cv =3, scoring='neg_mean_squared_error')"
   ]
  },
  {
   "cell_type": "code",
   "execution_count": 35,
   "id": "eaab14a2",
   "metadata": {},
   "outputs": [
    {
     "name": "stdout",
     "output_type": "stream",
     "text": [
      "-360.62520018141777 -356.82856983346187\n"
     ]
    }
   ],
   "source": [
    "print(error_1.mean(),error_2.mean())"
   ]
  },
  {
   "cell_type": "code",
   "execution_count": 78,
   "id": "f7eb4da2",
   "metadata": {},
   "outputs": [
    {
     "name": "stdout",
     "output_type": "stream",
     "text": [
      "356.8859952136066\n"
     ]
    }
   ],
   "source": [
    "gbm4_pred = gbm_tuned_1.predict(x_val_encoded)\n",
    "print(mean_squared_error(y_val,gbm4_pred))"
   ]
  },
  {
   "cell_type": "code",
   "execution_count": null,
   "id": "56729950",
   "metadata": {},
   "outputs": [],
   "source": []
  },
  {
   "cell_type": "code",
   "execution_count": null,
   "id": "b89ae08f",
   "metadata": {},
   "outputs": [],
   "source": []
  },
  {
   "cell_type": "markdown",
   "id": "9fd803f8",
   "metadata": {},
   "source": [
    "### Deep Neural Networks "
   ]
  },
  {
   "cell_type": "code",
   "execution_count": 71,
   "id": "bee21d31",
   "metadata": {},
   "outputs": [],
   "source": [
    "from keras.callbacks import ModelCheckpoint\n",
    "from keras.models import Sequential\n",
    "from keras.layers import Dense, Activation, Flatten\n",
    "from keras.layers import Dropout"
   ]
  },
  {
   "cell_type": "markdown",
   "id": "3ead79b2",
   "metadata": {},
   "source": [
    "### No dropouts"
   ]
  },
  {
   "cell_type": "code",
   "execution_count": 60,
   "id": "f5ef5d10",
   "metadata": {},
   "outputs": [
    {
     "name": "stdout",
     "output_type": "stream",
     "text": [
      "Model: \"sequential_1\"\n",
      "_________________________________________________________________\n",
      " Layer (type)                Output Shape              Param #   \n",
      "=================================================================\n",
      " dense (Dense)               (None, 128)               4096      \n",
      "                                                                 \n",
      " dense_1 (Dense)             (None, 256)               33024     \n",
      "                                                                 \n",
      " dense_2 (Dense)             (None, 256)               65792     \n",
      "                                                                 \n",
      " dense_3 (Dense)             (None, 256)               65792     \n",
      "                                                                 \n",
      " dense_4 (Dense)             (None, 1)                 257       \n",
      "                                                                 \n",
      "=================================================================\n",
      "Total params: 168,961\n",
      "Trainable params: 168,961\n",
      "Non-trainable params: 0\n",
      "_________________________________________________________________\n"
     ]
    }
   ],
   "source": [
    "NN_model = Sequential()\n",
    "\n",
    "# The Input Layer :\n",
    "NN_model.add(Dense(128, kernel_initializer='normal',input_dim = x_train_encoded.shape[1], activation='relu'))\n",
    "\n",
    "# The Hidden Layers :\n",
    "NN_model.add(Dense(256, kernel_initializer='normal',activation='relu'))\n",
    "NN_model.add(Dense(256, kernel_initializer='normal',activation='relu'))\n",
    "NN_model.add(Dense(256, kernel_initializer='normal',activation='relu'))\n",
    "\n",
    "# The Output Layer :\n",
    "NN_model.add(Dense(1, kernel_initializer='normal',activation='linear'))\n",
    "\n",
    "# Compile the network :\n",
    "NN_model.compile(loss='mean_absolute_error', optimizer='adam', metrics=['mse'])\n",
    "NN_model.summary()"
   ]
  },
  {
   "cell_type": "code",
   "execution_count": 62,
   "id": "dac33d4c",
   "metadata": {},
   "outputs": [
    {
     "name": "stdout",
     "output_type": "stream",
     "text": [
      "Epoch 1/20\n",
      "17500/17500 [==============================] - 40s 2ms/step - loss: 15.8685 - mse: 388.9250 - val_loss: 16.2036 - val_mse: 416.1398\n",
      "Epoch 2/20\n",
      "17500/17500 [==============================] - 39s 2ms/step - loss: 15.7101 - mse: 379.4499 - val_loss: 15.6391 - val_mse: 376.6476\n",
      "Epoch 3/20\n",
      "17500/17500 [==============================] - 39s 2ms/step - loss: 15.6237 - mse: 374.2782 - val_loss: 15.4727 - val_mse: 363.9279\n",
      "Epoch 4/20\n",
      "17500/17500 [==============================] - 39s 2ms/step - loss: 15.5730 - mse: 371.0078 - val_loss: 15.9858 - val_mse: 396.8606\n",
      "Epoch 5/20\n",
      "17500/17500 [==============================] - 39s 2ms/step - loss: 15.5316 - mse: 368.1833 - val_loss: 15.7224 - val_mse: 380.9400\n",
      "Epoch 6/20\n",
      "17500/17500 [==============================] - 39s 2ms/step - loss: 15.5039 - mse: 366.8290 - val_loss: 15.4337 - val_mse: 360.8222\n",
      "Epoch 7/20\n",
      "17500/17500 [==============================] - 39s 2ms/step - loss: 15.4983 - mse: 366.4758 - val_loss: 15.6332 - val_mse: 377.5757\n",
      "Epoch 8/20\n",
      "17500/17500 [==============================] - 39s 2ms/step - loss: 15.4815 - mse: 365.6918 - val_loss: 15.4760 - val_mse: 365.1534\n",
      "Epoch 9/20\n",
      "17500/17500 [==============================] - 39s 2ms/step - loss: 15.4674 - mse: 364.7693 - val_loss: 15.4056 - val_mse: 361.1349\n",
      "Epoch 10/20\n",
      "17500/17500 [==============================] - 38s 2ms/step - loss: 15.4619 - mse: 364.6380 - val_loss: 15.6854 - val_mse: 381.7023\n",
      "Epoch 11/20\n",
      "17500/17500 [==============================] - 38s 2ms/step - loss: 15.4475 - mse: 363.9242 - val_loss: 15.3945 - val_mse: 360.1649\n",
      "Epoch 12/20\n",
      "17500/17500 [==============================] - 38s 2ms/step - loss: 15.4494 - mse: 363.8101 - val_loss: 15.3989 - val_mse: 359.7705\n",
      "Epoch 13/20\n",
      "17500/17500 [==============================] - 39s 2ms/step - loss: 15.4375 - mse: 363.1991 - val_loss: 15.4010 - val_mse: 360.2932\n",
      "Epoch 14/20\n",
      "17500/17500 [==============================] - 39s 2ms/step - loss: 15.4295 - mse: 362.6371 - val_loss: 15.4257 - val_mse: 359.8792\n",
      "Epoch 15/20\n",
      "17500/17500 [==============================] - 39s 2ms/step - loss: 15.4206 - mse: 362.4096 - val_loss: 15.4073 - val_mse: 360.8109\n",
      "Epoch 16/20\n",
      "17500/17500 [==============================] - 39s 2ms/step - loss: 15.4212 - mse: 362.3800 - val_loss: 15.4075 - val_mse: 359.9913\n",
      "Epoch 17/20\n",
      "17500/17500 [==============================] - 39s 2ms/step - loss: 15.4111 - mse: 361.7926 - val_loss: 15.5566 - val_mse: 367.2634\n",
      "Epoch 18/20\n",
      "17500/17500 [==============================] - 39s 2ms/step - loss: 15.4095 - mse: 361.6431 - val_loss: 15.4409 - val_mse: 361.2241\n",
      "Epoch 19/20\n",
      "17500/17500 [==============================] - 39s 2ms/step - loss: 15.4017 - mse: 361.2821 - val_loss: 15.3948 - val_mse: 359.8694\n",
      "Epoch 20/20\n",
      "17500/17500 [==============================] - 39s 2ms/step - loss: 15.3958 - mse: 361.0624 - val_loss: 15.4651 - val_mse: 365.6174\n"
     ]
    },
    {
     "data": {
      "text/plain": [
       "<keras.callbacks.History at 0x1e3b0b0a6a0>"
      ]
     },
     "execution_count": 62,
     "metadata": {},
     "output_type": "execute_result"
    }
   ],
   "source": [
    "NN_model.fit(x_train_encoded, y_train, epochs=20, batch_size=32, validation_split = 0.2)"
   ]
  },
  {
   "cell_type": "code",
   "execution_count": 64,
   "id": "1510e872",
   "metadata": {},
   "outputs": [
    {
     "name": "stdout",
     "output_type": "stream",
     "text": [
      "363.6419389832914\n"
     ]
    }
   ],
   "source": [
    "predictions = NN_model.predict(x_val_encoded)\n",
    "print(mean_squared_error(y_val,predictions))"
   ]
  },
  {
   "cell_type": "markdown",
   "id": "c580376e",
   "metadata": {},
   "source": [
    "#### activation layer ReLu, with less hidden layers and nodes "
   ]
  },
  {
   "cell_type": "code",
   "execution_count": 66,
   "id": "b14dc13a",
   "metadata": {
    "collapsed": true
   },
   "outputs": [
    {
     "name": "stdout",
     "output_type": "stream",
     "text": [
      "Model: \"sequential_3\"\n",
      "_________________________________________________________________\n",
      " Layer (type)                Output Shape              Param #   \n",
      "=================================================================\n",
      " dense_9 (Dense)             (None, 64)                2048      \n",
      "                                                                 \n",
      " dense_10 (Dense)            (None, 128)               8320      \n",
      "                                                                 \n",
      " dense_11 (Dense)            (None, 128)               16512     \n",
      "                                                                 \n",
      " dense_12 (Dense)            (None, 1)                 129       \n",
      "                                                                 \n",
      "=================================================================\n",
      "Total params: 27,009\n",
      "Trainable params: 27,009\n",
      "Non-trainable params: 0\n",
      "_________________________________________________________________\n"
     ]
    }
   ],
   "source": [
    "NN_model_2 = Sequential()\n",
    "\n",
    "# The Input Layer :\n",
    "NN_model_2.add(Dense(64, kernel_initializer='normal',input_dim = x_train_encoded.shape[1], activation='selu'))\n",
    "\n",
    "# The Hidden Layers :\n",
    "NN_model_2.add(Dense(128, kernel_initializer='normal',activation='selu'))\n",
    "NN_model_2.add(Dense(128, kernel_initializer='normal',activation='selu'))\n",
    "\n",
    "# The Output Layer :\n",
    "NN_model_2.add(Dense(1, kernel_initializer='normal',activation='linear'))\n",
    "\n",
    "# Compile the network :\n",
    "NN_model_2.compile(loss='mean_absolute_error', optimizer='adam', metrics=['mse'])\n",
    "NN_model_2.summary()"
   ]
  },
  {
   "cell_type": "code",
   "execution_count": 67,
   "id": "a4bded25",
   "metadata": {
    "collapsed": true
   },
   "outputs": [
    {
     "name": "stdout",
     "output_type": "stream",
     "text": [
      "Epoch 1/20\n",
      "17500/17500 [==============================] - 35s 2ms/step - loss: 16.1497 - mse: 419.2448 - val_loss: 15.8127 - val_mse: 385.5827\n",
      "Epoch 2/20\n",
      "17500/17500 [==============================] - 34s 2ms/step - loss: 15.7156 - mse: 379.9995 - val_loss: 15.6240 - val_mse: 372.2517\n",
      "Epoch 3/20\n",
      "17500/17500 [==============================] - 34s 2ms/step - loss: 15.6320 - mse: 374.9365 - val_loss: 15.5052 - val_mse: 366.3273\n",
      "Epoch 4/20\n",
      "17500/17500 [==============================] - 35s 2ms/step - loss: 15.5470 - mse: 369.5513 - val_loss: 15.4935 - val_mse: 365.9038\n",
      "Epoch 5/20\n",
      "17500/17500 [==============================] - 35s 2ms/step - loss: 15.4972 - mse: 366.2870 - val_loss: 15.3919 - val_mse: 359.2046\n",
      "Epoch 6/20\n",
      "17500/17500 [==============================] - 35s 2ms/step - loss: 15.4576 - mse: 363.9457 - val_loss: 15.4002 - val_mse: 359.8665\n",
      "Epoch 7/20\n",
      "17500/17500 [==============================] - 35s 2ms/step - loss: 15.4420 - mse: 363.1600 - val_loss: 15.6661 - val_mse: 371.6826\n",
      "Epoch 8/20\n",
      "17500/17500 [==============================] - 34s 2ms/step - loss: 15.4290 - mse: 362.1103 - val_loss: 15.5506 - val_mse: 369.5056\n",
      "Epoch 9/20\n",
      "17500/17500 [==============================] - 35s 2ms/step - loss: 15.4161 - mse: 361.5098 - val_loss: 15.3813 - val_mse: 359.3859\n",
      "Epoch 10/20\n",
      "17500/17500 [==============================] - 35s 2ms/step - loss: 15.4077 - mse: 360.9857 - val_loss: 15.3880 - val_mse: 358.3821\n",
      "Epoch 11/20\n",
      "17500/17500 [==============================] - 35s 2ms/step - loss: 15.3973 - mse: 360.4528 - val_loss: 15.4635 - val_mse: 366.5056\n",
      "Epoch 12/20\n",
      "17500/17500 [==============================] - 35s 2ms/step - loss: 15.3934 - mse: 360.2288 - val_loss: 15.4746 - val_mse: 364.7162\n",
      "Epoch 13/20\n",
      "17500/17500 [==============================] - 35s 2ms/step - loss: 15.3884 - mse: 359.8367 - val_loss: 15.4128 - val_mse: 362.7209\n",
      "Epoch 14/20\n",
      "17500/17500 [==============================] - 34s 2ms/step - loss: 15.3836 - mse: 359.8515 - val_loss: 15.3638 - val_mse: 357.6469\n",
      "Epoch 15/20\n",
      "17500/17500 [==============================] - 35s 2ms/step - loss: 15.3799 - mse: 359.4595 - val_loss: 15.4288 - val_mse: 360.2022\n",
      "Epoch 16/20\n",
      "17500/17500 [==============================] - 35s 2ms/step - loss: 15.3751 - mse: 359.2363 - val_loss: 15.4166 - val_mse: 361.5293\n",
      "Epoch 17/20\n",
      "17500/17500 [==============================] - 35s 2ms/step - loss: 15.3645 - mse: 358.6935 - val_loss: 15.4722 - val_mse: 363.5909\n",
      "Epoch 18/20\n",
      "17500/17500 [==============================] - 35s 2ms/step - loss: 15.3630 - mse: 358.6533 - val_loss: 15.3803 - val_mse: 358.6880\n",
      "Epoch 19/20\n",
      "17500/17500 [==============================] - 34s 2ms/step - loss: 15.3627 - mse: 358.5094 - val_loss: 15.4181 - val_mse: 361.2811\n",
      "Epoch 20/20\n",
      "17500/17500 [==============================] - 35s 2ms/step - loss: 15.3602 - mse: 358.5636 - val_loss: 15.3836 - val_mse: 359.7639\n"
     ]
    },
    {
     "data": {
      "text/plain": [
       "<keras.callbacks.History at 0x1e430bb8520>"
      ]
     },
     "execution_count": 67,
     "metadata": {},
     "output_type": "execute_result"
    }
   ],
   "source": [
    "NN_model_2.fit(x_train_encoded, y_train, epochs=20, batch_size=32, validation_split = 0.2)"
   ]
  },
  {
   "cell_type": "code",
   "execution_count": 68,
   "id": "640f1443",
   "metadata": {},
   "outputs": [
    {
     "name": "stdout",
     "output_type": "stream",
     "text": [
      "357.7474572925096\n"
     ]
    }
   ],
   "source": [
    "predictions_2 = NN_model_2.predict(x_val_encoded)\n",
    "print(mean_squared_error(y_val,predictions_2))"
   ]
  },
  {
   "cell_type": "markdown",
   "id": "025b205b",
   "metadata": {},
   "source": [
    "### with dropouts"
   ]
  },
  {
   "cell_type": "code",
   "execution_count": 72,
   "id": "1a50c635",
   "metadata": {
    "collapsed": true
   },
   "outputs": [
    {
     "name": "stdout",
     "output_type": "stream",
     "text": [
      "Model: \"sequential_6\"\n",
      "_________________________________________________________________\n",
      " Layer (type)                Output Shape              Param #   \n",
      "=================================================================\n",
      " dense_15 (Dense)            (None, 64)                2048      \n",
      "                                                                 \n",
      " dropout (Dropout)           (None, 64)                0         \n",
      "                                                                 \n",
      " dense_16 (Dense)            (None, 128)               8320      \n",
      "                                                                 \n",
      " dropout_1 (Dropout)         (None, 128)               0         \n",
      "                                                                 \n",
      " dense_17 (Dense)            (None, 128)               16512     \n",
      "                                                                 \n",
      " dropout_2 (Dropout)         (None, 128)               0         \n",
      "                                                                 \n",
      " dense_18 (Dense)            (None, 1)                 129       \n",
      "                                                                 \n",
      "=================================================================\n",
      "Total params: 27,009\n",
      "Trainable params: 27,009\n",
      "Non-trainable params: 0\n",
      "_________________________________________________________________\n"
     ]
    }
   ],
   "source": [
    "NN_model_3 = Sequential()\n",
    "\n",
    "# The Input Layer :\n",
    "NN_model_3.add(Dense(64, kernel_initializer='normal',input_dim = x_train_encoded.shape[1], activation='selu'))\n",
    "NN_model_3.add(Dropout(0.2))\n",
    "# The Hidden Layers :\n",
    "NN_model_3.add(Dense(128, kernel_initializer='normal',activation='selu'))\n",
    "NN_model_3.add(Dropout(0.2))\n",
    "NN_model_3.add(Dense(128, kernel_initializer='normal',activation='selu'))\n",
    "NN_model_3.add(Dropout(0.2))\n",
    "# The Output Layer :\n",
    "NN_model_3.add(Dense(1, kernel_initializer='normal',activation='linear'))\n",
    "\n",
    "# Compile the network :\n",
    "NN_model_3.compile(loss='mean_absolute_error', optimizer='adamax', metrics=['mse'])\n",
    "NN_model_3.summary()\n"
   ]
  },
  {
   "cell_type": "code",
   "execution_count": 73,
   "id": "e5286644",
   "metadata": {
    "collapsed": true
   },
   "outputs": [
    {
     "name": "stdout",
     "output_type": "stream",
     "text": [
      "Epoch 1/20\n",
      "17500/17500 [==============================] - 41s 2ms/step - loss: 17.8609 - mse: 535.7599 - val_loss: 15.7140 - val_mse: 382.4869\n",
      "Epoch 2/20\n",
      "17500/17500 [==============================] - 41s 2ms/step - loss: 16.5945 - mse: 433.9010 - val_loss: 15.8874 - val_mse: 385.0001\n",
      "Epoch 3/20\n",
      "17500/17500 [==============================] - 41s 2ms/step - loss: 16.4879 - mse: 426.9828 - val_loss: 15.8268 - val_mse: 388.6416\n",
      "Epoch 4/20\n",
      "17500/17500 [==============================] - 41s 2ms/step - loss: 16.4595 - mse: 425.8032 - val_loss: 15.5908 - val_mse: 372.9740\n",
      "Epoch 5/20\n",
      "17500/17500 [==============================] - 41s 2ms/step - loss: 16.4165 - mse: 423.1640 - val_loss: 15.5597 - val_mse: 369.5881\n",
      "Epoch 6/20\n",
      "17500/17500 [==============================] - 41s 2ms/step - loss: 16.4045 - mse: 422.7178 - val_loss: 15.5945 - val_mse: 371.9797\n",
      "Epoch 7/20\n",
      "17500/17500 [==============================] - 41s 2ms/step - loss: 16.3765 - mse: 421.2268 - val_loss: 15.5669 - val_mse: 371.7350\n",
      "Epoch 8/20\n",
      "17500/17500 [==============================] - 41s 2ms/step - loss: 16.3725 - mse: 420.6985 - val_loss: 15.7091 - val_mse: 384.4925\n",
      "Epoch 9/20\n",
      "17500/17500 [==============================] - 40s 2ms/step - loss: 16.3403 - mse: 418.9219 - val_loss: 15.5753 - val_mse: 372.5555\n",
      "Epoch 10/20\n",
      "17500/17500 [==============================] - 41s 2ms/step - loss: 16.3114 - mse: 417.2298 - val_loss: 15.6047 - val_mse: 371.4147\n",
      "Epoch 11/20\n",
      "17500/17500 [==============================] - 41s 2ms/step - loss: 16.3022 - mse: 415.9241 - val_loss: 15.5155 - val_mse: 369.3433\n",
      "Epoch 12/20\n",
      "17500/17500 [==============================] - 41s 2ms/step - loss: 16.2806 - mse: 414.6784 - val_loss: 15.5153 - val_mse: 369.2223\n",
      "Epoch 13/20\n",
      "17500/17500 [==============================] - 41s 2ms/step - loss: 16.2697 - mse: 413.7542 - val_loss: 15.4886 - val_mse: 364.6849\n",
      "Epoch 14/20\n",
      "17500/17500 [==============================] - 41s 2ms/step - loss: 16.2495 - mse: 412.1090 - val_loss: 15.4666 - val_mse: 364.9555\n",
      "Epoch 15/20\n",
      "17500/17500 [==============================] - 43s 2ms/step - loss: 16.2243 - mse: 411.3433 - val_loss: 15.5495 - val_mse: 365.1665\n",
      "Epoch 16/20\n",
      "17500/17500 [==============================] - 44s 2ms/step - loss: 16.2022 - mse: 410.1166 - val_loss: 15.5106 - val_mse: 364.5767\n",
      "Epoch 17/20\n",
      "17500/17500 [==============================] - 43s 2ms/step - loss: 16.2075 - mse: 409.4145 - val_loss: 15.4452 - val_mse: 362.8049\n",
      "Epoch 18/20\n",
      "17500/17500 [==============================] - 43s 2ms/step - loss: 16.1982 - mse: 409.2977 - val_loss: 15.4841 - val_mse: 367.5204\n",
      "Epoch 19/20\n",
      "17500/17500 [==============================] - 43s 2ms/step - loss: 16.1987 - mse: 409.0286 - val_loss: 15.4864 - val_mse: 363.4706\n",
      "Epoch 20/20\n",
      "17500/17500 [==============================] - 44s 3ms/step - loss: 16.1834 - mse: 408.3978 - val_loss: 15.5019 - val_mse: 364.5610\n"
     ]
    },
    {
     "data": {
      "text/plain": [
       "<keras.callbacks.History at 0x1e430c59820>"
      ]
     },
     "execution_count": 73,
     "metadata": {},
     "output_type": "execute_result"
    }
   ],
   "source": [
    "NN_model_3.fit(x_train_encoded, y_train, epochs=20, batch_size=32, validation_split = 0.2)"
   ]
  },
  {
   "cell_type": "code",
   "execution_count": 75,
   "id": "a8d75e93",
   "metadata": {},
   "outputs": [
    {
     "name": "stdout",
     "output_type": "stream",
     "text": [
      "363.7070329274651\n"
     ]
    }
   ],
   "source": [
    "predictions_3 = NN_model_3.predict(x_val_encoded)\n",
    "print(mean_squared_error(y_val,predictions_3))"
   ]
  },
  {
   "cell_type": "code",
   "execution_count": null,
   "id": "70959d4d",
   "metadata": {},
   "outputs": [],
   "source": []
  }
 ],
 "metadata": {
  "kernelspec": {
   "display_name": "Python 3 (ipykernel)",
   "language": "python",
   "name": "python3"
  },
  "language_info": {
   "codemirror_mode": {
    "name": "ipython",
    "version": 3
   },
   "file_extension": ".py",
   "mimetype": "text/x-python",
   "name": "python",
   "nbconvert_exporter": "python",
   "pygments_lexer": "ipython3",
   "version": "3.9.7"
  }
 },
 "nbformat": 4,
 "nbformat_minor": 5
}
